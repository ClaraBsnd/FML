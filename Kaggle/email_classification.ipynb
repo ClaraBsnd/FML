{
  "cells": [
    {
      "cell_type": "markdown",
      "source": [
        "#**IMPORTS**"
      ],
      "metadata": {
        "id": "ghjzebu-c19O"
      }
    },
    {
      "cell_type": "code",
      "execution_count": null,
      "metadata": {
        "id": "fu8tv8l3PVFw"
      },
      "outputs": [],
      "source": [
        "# This Python 3 environment comes with many helpful analytics libraries installed\n",
        "# It is defined by the kaggle/python Docker image: https://github.com/kaggle/docker-python\n",
        "# For example, here's several helpful packages to load\n",
        "\n",
        "import numpy as np # linear algebra\n",
        "import pandas as pd # data processing, CSV file I/O (e.g. pd.read_csv)\n",
        "\n",
        "# Input data files are available in the read-only \"../input/\" directory\n",
        "# For example, running this (by clicking run or pressing Shift+Enter) will list all files under the input directory\n",
        "\n",
        "import os\n",
        "for dirname, _, filenames in os.walk('/kaggle/input'):\n",
        "    for filename in filenames:\n",
        "        print(os.path.join(dirname, filename))\n",
        "\n",
        "# You can write up to 20GB to the current directory (/kaggle/working/) that gets preserved as output when you create a version using \"Save & Run All\" \n",
        "# You can also write temporary files to /kaggle/temp/, but they won't be saved outside of the current session"
      ]
    },
    {
      "cell_type": "code",
      "execution_count": null,
      "metadata": {
        "id": "XmDt-2aNPVFx"
      },
      "outputs": [],
      "source": [
        "!pip install -U scikit-learn\n"
      ]
    },
    {
      "cell_type": "code",
      "execution_count": null,
      "metadata": {
        "id": "7kpE8rmrPVFy"
      },
      "outputs": [],
      "source": [
        "#helper function \n",
        "from sklearn.preprocessing import LabelEncoder\n",
        "from sklearn.preprocessing import OrdinalEncoder\n",
        "from sklearn.metrics  import f1_score,accuracy_score\n",
        "\n",
        "\n",
        "def label_encoder(column, df):\n",
        "    le = LabelEncoder()\n",
        "    df[column]=le.fit_transform(df[column])\n",
        "    return "
      ]
    },
    {
      "cell_type": "code",
      "execution_count": null,
      "metadata": {
        "id": "9wMwYgr7PVFy"
      },
      "outputs": [],
      "source": [
        "#Importing the datasets\n",
        "test_data=\"/content/test.csv\"\n",
        "train_data=\"/content/train.csv\"\n",
        "\n",
        "\n",
        "def import_data(some_csv:str, sep=\",\"):\n",
        "  return pd.read_csv(some_csv, header=0, sep=sep)\n",
        "\n",
        "df_train=import_data(train_data)\n",
        "df_test = import_data(test_data)\n",
        "\n",
        "\n",
        "df_train=df_train.drop('Unnamed: 0', axis=1)\n",
        "df_test=df_test.drop('Unnamed: 0', axis=1)"
      ]
    },
    {
      "cell_type": "code",
      "execution_count": null,
      "metadata": {
        "colab": {
          "base_uri": "https://localhost:8080/"
        },
        "id": "Zxr_2iypm6ZI",
        "outputId": "76c907c3-0abc-44be-8841-211c20f930f8"
      },
      "outputs": [
        {
          "output_type": "execute_result",
          "data": {
            "text/plain": [
              "date                   0\n",
              "org                 3451\n",
              "tld                 3453\n",
              "ccs                    0\n",
              "bcced                  0\n",
              "mail_type            172\n",
              "images                 0\n",
              "urls                   0\n",
              "salutations            0\n",
              "designation            0\n",
              "chars_in_subject      16\n",
              "chars_in_body          0\n",
              "label                  0\n",
              "dtype: int64"
            ]
          },
          "metadata": {},
          "execution_count": 121
        }
      ],
      "source": [
        "df_train.isna().sum()"
      ]
    },
    {
      "cell_type": "markdown",
      "source": [
        "#**FEATURE ENGINEERING**"
      ],
      "metadata": {
        "id": "FDFzjrZJvKBE"
      }
    },
    {
      "cell_type": "markdown",
      "source": [
        "## Duplicates function"
      ],
      "metadata": {
        "id": "x8gotYKK5WIU"
      }
    },
    {
      "cell_type": "code",
      "source": [
        "df_train[df_train['chars_in_body'] == 13464]"
      ],
      "metadata": {
        "colab": {
          "base_uri": "https://localhost:8080/",
          "height": 940
        },
        "id": "PRqqjKLFBDJY",
        "outputId": "48f85a30-406e-4709-f5a1-ec071fb40912"
      },
      "execution_count": null,
      "outputs": [
        {
          "output_type": "execute_result",
          "data": {
            "text/plain": [
              "                                        date  org  tld  ccs  bcced  mail_type  \\\n",
              "18701  Fri,  1 May 2015 11:48:55 +0530 (IST)  NaN  NaN    0      0  text/html   \n",
              "24351  Fri,  1 May 2015 11:48:55 +0530 (IST)  NaN  NaN    0      0  text/html   \n",
              "34895  Fri,  1 May 2015 11:06:59 +0530 (IST)  NaN  NaN    0      0  text/html   \n",
              "46704  Fri,  1 May 2015 10:44:34 +0530 (IST)  NaN  NaN    0      0  text/html   \n",
              "58428  Fri,  1 May 2015 11:06:59 +0530 (IST)  NaN  NaN    0      0  text/html   \n",
              "79354  Fri,  1 May 2015 10:44:34 +0530 (IST)  NaN  NaN    0      0  text/html   \n",
              "80172  Fri,  1 May 2015 11:48:55 +0530 (IST)  NaN  NaN    0      0  text/html   \n",
              "\n",
              "       images  urls  salutations  designation  chars_in_subject  \\\n",
              "18701       0     2            1            0              73.0   \n",
              "24351       0     2            1            0              73.0   \n",
              "34895       0     2            1            0              74.0   \n",
              "46704       0     2            1            0              73.0   \n",
              "58428       0     2            1            0              74.0   \n",
              "79354       0     2            1            0              73.0   \n",
              "80172       0     2            1            0              73.0   \n",
              "\n",
              "       chars_in_body  label  \n",
              "18701          13464      5  \n",
              "24351          13464      1  \n",
              "34895          13464      5  \n",
              "46704          13464      1  \n",
              "58428          13464      0  \n",
              "79354          13464      5  \n",
              "80172          13464      0  "
            ],
            "text/html": [
              "\n",
              "  <div id=\"df-fc362df7-0852-4778-b0e3-5175cdf24549\">\n",
              "    <div class=\"colab-df-container\">\n",
              "      <div>\n",
              "<style scoped>\n",
              "    .dataframe tbody tr th:only-of-type {\n",
              "        vertical-align: middle;\n",
              "    }\n",
              "\n",
              "    .dataframe tbody tr th {\n",
              "        vertical-align: top;\n",
              "    }\n",
              "\n",
              "    .dataframe thead th {\n",
              "        text-align: right;\n",
              "    }\n",
              "</style>\n",
              "<table border=\"1\" class=\"dataframe\">\n",
              "  <thead>\n",
              "    <tr style=\"text-align: right;\">\n",
              "      <th></th>\n",
              "      <th>date</th>\n",
              "      <th>org</th>\n",
              "      <th>tld</th>\n",
              "      <th>ccs</th>\n",
              "      <th>bcced</th>\n",
              "      <th>mail_type</th>\n",
              "      <th>images</th>\n",
              "      <th>urls</th>\n",
              "      <th>salutations</th>\n",
              "      <th>designation</th>\n",
              "      <th>chars_in_subject</th>\n",
              "      <th>chars_in_body</th>\n",
              "      <th>label</th>\n",
              "    </tr>\n",
              "  </thead>\n",
              "  <tbody>\n",
              "    <tr>\n",
              "      <th>18701</th>\n",
              "      <td>Fri,  1 May 2015 11:48:55 +0530 (IST)</td>\n",
              "      <td>NaN</td>\n",
              "      <td>NaN</td>\n",
              "      <td>0</td>\n",
              "      <td>0</td>\n",
              "      <td>text/html</td>\n",
              "      <td>0</td>\n",
              "      <td>2</td>\n",
              "      <td>1</td>\n",
              "      <td>0</td>\n",
              "      <td>73.0</td>\n",
              "      <td>13464</td>\n",
              "      <td>5</td>\n",
              "    </tr>\n",
              "    <tr>\n",
              "      <th>24351</th>\n",
              "      <td>Fri,  1 May 2015 11:48:55 +0530 (IST)</td>\n",
              "      <td>NaN</td>\n",
              "      <td>NaN</td>\n",
              "      <td>0</td>\n",
              "      <td>0</td>\n",
              "      <td>text/html</td>\n",
              "      <td>0</td>\n",
              "      <td>2</td>\n",
              "      <td>1</td>\n",
              "      <td>0</td>\n",
              "      <td>73.0</td>\n",
              "      <td>13464</td>\n",
              "      <td>1</td>\n",
              "    </tr>\n",
              "    <tr>\n",
              "      <th>34895</th>\n",
              "      <td>Fri,  1 May 2015 11:06:59 +0530 (IST)</td>\n",
              "      <td>NaN</td>\n",
              "      <td>NaN</td>\n",
              "      <td>0</td>\n",
              "      <td>0</td>\n",
              "      <td>text/html</td>\n",
              "      <td>0</td>\n",
              "      <td>2</td>\n",
              "      <td>1</td>\n",
              "      <td>0</td>\n",
              "      <td>74.0</td>\n",
              "      <td>13464</td>\n",
              "      <td>5</td>\n",
              "    </tr>\n",
              "    <tr>\n",
              "      <th>46704</th>\n",
              "      <td>Fri,  1 May 2015 10:44:34 +0530 (IST)</td>\n",
              "      <td>NaN</td>\n",
              "      <td>NaN</td>\n",
              "      <td>0</td>\n",
              "      <td>0</td>\n",
              "      <td>text/html</td>\n",
              "      <td>0</td>\n",
              "      <td>2</td>\n",
              "      <td>1</td>\n",
              "      <td>0</td>\n",
              "      <td>73.0</td>\n",
              "      <td>13464</td>\n",
              "      <td>1</td>\n",
              "    </tr>\n",
              "    <tr>\n",
              "      <th>58428</th>\n",
              "      <td>Fri,  1 May 2015 11:06:59 +0530 (IST)</td>\n",
              "      <td>NaN</td>\n",
              "      <td>NaN</td>\n",
              "      <td>0</td>\n",
              "      <td>0</td>\n",
              "      <td>text/html</td>\n",
              "      <td>0</td>\n",
              "      <td>2</td>\n",
              "      <td>1</td>\n",
              "      <td>0</td>\n",
              "      <td>74.0</td>\n",
              "      <td>13464</td>\n",
              "      <td>0</td>\n",
              "    </tr>\n",
              "    <tr>\n",
              "      <th>79354</th>\n",
              "      <td>Fri,  1 May 2015 10:44:34 +0530 (IST)</td>\n",
              "      <td>NaN</td>\n",
              "      <td>NaN</td>\n",
              "      <td>0</td>\n",
              "      <td>0</td>\n",
              "      <td>text/html</td>\n",
              "      <td>0</td>\n",
              "      <td>2</td>\n",
              "      <td>1</td>\n",
              "      <td>0</td>\n",
              "      <td>73.0</td>\n",
              "      <td>13464</td>\n",
              "      <td>5</td>\n",
              "    </tr>\n",
              "    <tr>\n",
              "      <th>80172</th>\n",
              "      <td>Fri,  1 May 2015 11:48:55 +0530 (IST)</td>\n",
              "      <td>NaN</td>\n",
              "      <td>NaN</td>\n",
              "      <td>0</td>\n",
              "      <td>0</td>\n",
              "      <td>text/html</td>\n",
              "      <td>0</td>\n",
              "      <td>2</td>\n",
              "      <td>1</td>\n",
              "      <td>0</td>\n",
              "      <td>73.0</td>\n",
              "      <td>13464</td>\n",
              "      <td>0</td>\n",
              "    </tr>\n",
              "  </tbody>\n",
              "</table>\n",
              "</div>\n",
              "      <button class=\"colab-df-convert\" onclick=\"convertToInteractive('df-fc362df7-0852-4778-b0e3-5175cdf24549')\"\n",
              "              title=\"Convert this dataframe to an interactive table.\"\n",
              "              style=\"display:none;\">\n",
              "        \n",
              "  <svg xmlns=\"http://www.w3.org/2000/svg\" height=\"24px\"viewBox=\"0 0 24 24\"\n",
              "       width=\"24px\">\n",
              "    <path d=\"M0 0h24v24H0V0z\" fill=\"none\"/>\n",
              "    <path d=\"M18.56 5.44l.94 2.06.94-2.06 2.06-.94-2.06-.94-.94-2.06-.94 2.06-2.06.94zm-11 1L8.5 8.5l.94-2.06 2.06-.94-2.06-.94L8.5 2.5l-.94 2.06-2.06.94zm10 10l.94 2.06.94-2.06 2.06-.94-2.06-.94-.94-2.06-.94 2.06-2.06.94z\"/><path d=\"M17.41 7.96l-1.37-1.37c-.4-.4-.92-.59-1.43-.59-.52 0-1.04.2-1.43.59L10.3 9.45l-7.72 7.72c-.78.78-.78 2.05 0 2.83L4 21.41c.39.39.9.59 1.41.59.51 0 1.02-.2 1.41-.59l7.78-7.78 2.81-2.81c.8-.78.8-2.07 0-2.86zM5.41 20L4 18.59l7.72-7.72 1.47 1.35L5.41 20z\"/>\n",
              "  </svg>\n",
              "      </button>\n",
              "      \n",
              "  <style>\n",
              "    .colab-df-container {\n",
              "      display:flex;\n",
              "      flex-wrap:wrap;\n",
              "      gap: 12px;\n",
              "    }\n",
              "\n",
              "    .colab-df-convert {\n",
              "      background-color: #E8F0FE;\n",
              "      border: none;\n",
              "      border-radius: 50%;\n",
              "      cursor: pointer;\n",
              "      display: none;\n",
              "      fill: #1967D2;\n",
              "      height: 32px;\n",
              "      padding: 0 0 0 0;\n",
              "      width: 32px;\n",
              "    }\n",
              "\n",
              "    .colab-df-convert:hover {\n",
              "      background-color: #E2EBFA;\n",
              "      box-shadow: 0px 1px 2px rgba(60, 64, 67, 0.3), 0px 1px 3px 1px rgba(60, 64, 67, 0.15);\n",
              "      fill: #174EA6;\n",
              "    }\n",
              "\n",
              "    [theme=dark] .colab-df-convert {\n",
              "      background-color: #3B4455;\n",
              "      fill: #D2E3FC;\n",
              "    }\n",
              "\n",
              "    [theme=dark] .colab-df-convert:hover {\n",
              "      background-color: #434B5C;\n",
              "      box-shadow: 0px 1px 3px 1px rgba(0, 0, 0, 0.15);\n",
              "      filter: drop-shadow(0px 1px 2px rgba(0, 0, 0, 0.3));\n",
              "      fill: #FFFFFF;\n",
              "    }\n",
              "  </style>\n",
              "\n",
              "      <script>\n",
              "        const buttonEl =\n",
              "          document.querySelector('#df-fc362df7-0852-4778-b0e3-5175cdf24549 button.colab-df-convert');\n",
              "        buttonEl.style.display =\n",
              "          google.colab.kernel.accessAllowed ? 'block' : 'none';\n",
              "\n",
              "        async function convertToInteractive(key) {\n",
              "          const element = document.querySelector('#df-fc362df7-0852-4778-b0e3-5175cdf24549');\n",
              "          const dataTable =\n",
              "            await google.colab.kernel.invokeFunction('convertToInteractive',\n",
              "                                                     [key], {});\n",
              "          if (!dataTable) return;\n",
              "\n",
              "          const docLinkHtml = 'Like what you see? Visit the ' +\n",
              "            '<a target=\"_blank\" href=https://colab.research.google.com/notebooks/data_table.ipynb>data table notebook</a>'\n",
              "            + ' to learn more about interactive tables.';\n",
              "          element.innerHTML = '';\n",
              "          dataTable['output_type'] = 'display_data';\n",
              "          await google.colab.output.renderOutput(dataTable, element);\n",
              "          const docLink = document.createElement('div');\n",
              "          docLink.innerHTML = docLinkHtml;\n",
              "          element.appendChild(docLink);\n",
              "        }\n",
              "      </script>\n",
              "    </div>\n",
              "  </div>\n",
              "  "
            ]
          },
          "metadata": {},
          "execution_count": 122
        }
      ]
    },
    {
      "cell_type": "code",
      "source": [
        "df_dup = df_train.drop('label', axis=1)\n",
        "\n",
        "df_dup[df_train.duplicated()]"
      ],
      "metadata": {
        "colab": {
          "base_uri": "https://localhost:8080/",
          "height": 1000
        },
        "id": "6TLmh2--_GSz",
        "outputId": "8e8f83de-96f2-4190-8b8c-4d02af2e1c24"
      },
      "execution_count": null,
      "outputs": [
        {
          "output_type": "execute_result",
          "data": {
            "text/plain": [
              "                                        date               org     tld  ccs  \\\n",
              "1848         Fri, 07 Apr 2017 15:24:00 +0530              nrsc  gov.in    0   \n",
              "1883         Sat, 24 Dec 2016 13:13:33 +0530             iiitd   ac.in    0   \n",
              "1895         Fri, 07 Apr 2017 10:32:01 +0530              nrsc  gov.in    0   \n",
              "2046   Thu, 24 Aug 2017 09:24:00 +0000 (UTC)  researchgatemail     net    0   \n",
              "2142   Tue, 25 Jun 2019 21:13:12 +0000 (UTC)            github     com    0   \n",
              "...                                      ...               ...     ...  ...   \n",
              "80151        Sun, 17 Jan 2016 18:28:14 +0000       usebackpack     com    0   \n",
              "80155        Fri, 18 Nov 2016 14:33:28 +0530             iiitd   ac.in    0   \n",
              "80159         Wed, 6 Apr 2016 22:57:30 +0530             iiitd   ac.in    5   \n",
              "80160        Tue, 26 Dec 2017 08:48:49 +0000           twitter     com    0   \n",
              "80164         Wed, 3 Feb 2016 17:12:02 +0530             iiitd   ac.in    2   \n",
              "\n",
              "       bcced              mail_type  images  urls  salutations  designation  \\\n",
              "1848       0  multipart/alternative       0     4            1            0   \n",
              "1883       0        multipart/mixed       0     1            1            1   \n",
              "1895       0  multipart/alternative       0     4            1            0   \n",
              "2046       0  multipart/alternative       2    18            0            1   \n",
              "2142       0             text/plain       0     3            0            0   \n",
              "...      ...                    ...     ...   ...          ...          ...   \n",
              "80151      0  multipart/alternative       4    19            0            0   \n",
              "80155      0  multipart/alternative       0    16            1            1   \n",
              "80159      0  multipart/alternative       0     3            1            1   \n",
              "80160      0  multipart/alternative      43   240            0            1   \n",
              "80164      0  multipart/alternative       0     1            1            0   \n",
              "\n",
              "       chars_in_subject  chars_in_body  \n",
              "1848               32.0           1210  \n",
              "1883                6.0       14339248  \n",
              "1895               32.0           1210  \n",
              "2046              150.0          21900  \n",
              "2142               52.0            446  \n",
              "...                 ...            ...  \n",
              "80151              37.0          26969  \n",
              "80155              48.0          17329  \n",
              "80159              90.0           8851  \n",
              "80160              31.0          95791  \n",
              "80164              57.0          21063  \n",
              "\n",
              "[10620 rows x 12 columns]"
            ],
            "text/html": [
              "\n",
              "  <div id=\"df-6912af12-43ba-4b35-ab2c-cd2def7e2dd5\">\n",
              "    <div class=\"colab-df-container\">\n",
              "      <div>\n",
              "<style scoped>\n",
              "    .dataframe tbody tr th:only-of-type {\n",
              "        vertical-align: middle;\n",
              "    }\n",
              "\n",
              "    .dataframe tbody tr th {\n",
              "        vertical-align: top;\n",
              "    }\n",
              "\n",
              "    .dataframe thead th {\n",
              "        text-align: right;\n",
              "    }\n",
              "</style>\n",
              "<table border=\"1\" class=\"dataframe\">\n",
              "  <thead>\n",
              "    <tr style=\"text-align: right;\">\n",
              "      <th></th>\n",
              "      <th>date</th>\n",
              "      <th>org</th>\n",
              "      <th>tld</th>\n",
              "      <th>ccs</th>\n",
              "      <th>bcced</th>\n",
              "      <th>mail_type</th>\n",
              "      <th>images</th>\n",
              "      <th>urls</th>\n",
              "      <th>salutations</th>\n",
              "      <th>designation</th>\n",
              "      <th>chars_in_subject</th>\n",
              "      <th>chars_in_body</th>\n",
              "    </tr>\n",
              "  </thead>\n",
              "  <tbody>\n",
              "    <tr>\n",
              "      <th>1848</th>\n",
              "      <td>Fri, 07 Apr 2017 15:24:00 +0530</td>\n",
              "      <td>nrsc</td>\n",
              "      <td>gov.in</td>\n",
              "      <td>0</td>\n",
              "      <td>0</td>\n",
              "      <td>multipart/alternative</td>\n",
              "      <td>0</td>\n",
              "      <td>4</td>\n",
              "      <td>1</td>\n",
              "      <td>0</td>\n",
              "      <td>32.0</td>\n",
              "      <td>1210</td>\n",
              "    </tr>\n",
              "    <tr>\n",
              "      <th>1883</th>\n",
              "      <td>Sat, 24 Dec 2016 13:13:33 +0530</td>\n",
              "      <td>iiitd</td>\n",
              "      <td>ac.in</td>\n",
              "      <td>0</td>\n",
              "      <td>0</td>\n",
              "      <td>multipart/mixed</td>\n",
              "      <td>0</td>\n",
              "      <td>1</td>\n",
              "      <td>1</td>\n",
              "      <td>1</td>\n",
              "      <td>6.0</td>\n",
              "      <td>14339248</td>\n",
              "    </tr>\n",
              "    <tr>\n",
              "      <th>1895</th>\n",
              "      <td>Fri, 07 Apr 2017 10:32:01 +0530</td>\n",
              "      <td>nrsc</td>\n",
              "      <td>gov.in</td>\n",
              "      <td>0</td>\n",
              "      <td>0</td>\n",
              "      <td>multipart/alternative</td>\n",
              "      <td>0</td>\n",
              "      <td>4</td>\n",
              "      <td>1</td>\n",
              "      <td>0</td>\n",
              "      <td>32.0</td>\n",
              "      <td>1210</td>\n",
              "    </tr>\n",
              "    <tr>\n",
              "      <th>2046</th>\n",
              "      <td>Thu, 24 Aug 2017 09:24:00 +0000 (UTC)</td>\n",
              "      <td>researchgatemail</td>\n",
              "      <td>net</td>\n",
              "      <td>0</td>\n",
              "      <td>0</td>\n",
              "      <td>multipart/alternative</td>\n",
              "      <td>2</td>\n",
              "      <td>18</td>\n",
              "      <td>0</td>\n",
              "      <td>1</td>\n",
              "      <td>150.0</td>\n",
              "      <td>21900</td>\n",
              "    </tr>\n",
              "    <tr>\n",
              "      <th>2142</th>\n",
              "      <td>Tue, 25 Jun 2019 21:13:12 +0000 (UTC)</td>\n",
              "      <td>github</td>\n",
              "      <td>com</td>\n",
              "      <td>0</td>\n",
              "      <td>0</td>\n",
              "      <td>text/plain</td>\n",
              "      <td>0</td>\n",
              "      <td>3</td>\n",
              "      <td>0</td>\n",
              "      <td>0</td>\n",
              "      <td>52.0</td>\n",
              "      <td>446</td>\n",
              "    </tr>\n",
              "    <tr>\n",
              "      <th>...</th>\n",
              "      <td>...</td>\n",
              "      <td>...</td>\n",
              "      <td>...</td>\n",
              "      <td>...</td>\n",
              "      <td>...</td>\n",
              "      <td>...</td>\n",
              "      <td>...</td>\n",
              "      <td>...</td>\n",
              "      <td>...</td>\n",
              "      <td>...</td>\n",
              "      <td>...</td>\n",
              "      <td>...</td>\n",
              "    </tr>\n",
              "    <tr>\n",
              "      <th>80151</th>\n",
              "      <td>Sun, 17 Jan 2016 18:28:14 +0000</td>\n",
              "      <td>usebackpack</td>\n",
              "      <td>com</td>\n",
              "      <td>0</td>\n",
              "      <td>0</td>\n",
              "      <td>multipart/alternative</td>\n",
              "      <td>4</td>\n",
              "      <td>19</td>\n",
              "      <td>0</td>\n",
              "      <td>0</td>\n",
              "      <td>37.0</td>\n",
              "      <td>26969</td>\n",
              "    </tr>\n",
              "    <tr>\n",
              "      <th>80155</th>\n",
              "      <td>Fri, 18 Nov 2016 14:33:28 +0530</td>\n",
              "      <td>iiitd</td>\n",
              "      <td>ac.in</td>\n",
              "      <td>0</td>\n",
              "      <td>0</td>\n",
              "      <td>multipart/alternative</td>\n",
              "      <td>0</td>\n",
              "      <td>16</td>\n",
              "      <td>1</td>\n",
              "      <td>1</td>\n",
              "      <td>48.0</td>\n",
              "      <td>17329</td>\n",
              "    </tr>\n",
              "    <tr>\n",
              "      <th>80159</th>\n",
              "      <td>Wed, 6 Apr 2016 22:57:30 +0530</td>\n",
              "      <td>iiitd</td>\n",
              "      <td>ac.in</td>\n",
              "      <td>5</td>\n",
              "      <td>0</td>\n",
              "      <td>multipart/alternative</td>\n",
              "      <td>0</td>\n",
              "      <td>3</td>\n",
              "      <td>1</td>\n",
              "      <td>1</td>\n",
              "      <td>90.0</td>\n",
              "      <td>8851</td>\n",
              "    </tr>\n",
              "    <tr>\n",
              "      <th>80160</th>\n",
              "      <td>Tue, 26 Dec 2017 08:48:49 +0000</td>\n",
              "      <td>twitter</td>\n",
              "      <td>com</td>\n",
              "      <td>0</td>\n",
              "      <td>0</td>\n",
              "      <td>multipart/alternative</td>\n",
              "      <td>43</td>\n",
              "      <td>240</td>\n",
              "      <td>0</td>\n",
              "      <td>1</td>\n",
              "      <td>31.0</td>\n",
              "      <td>95791</td>\n",
              "    </tr>\n",
              "    <tr>\n",
              "      <th>80164</th>\n",
              "      <td>Wed, 3 Feb 2016 17:12:02 +0530</td>\n",
              "      <td>iiitd</td>\n",
              "      <td>ac.in</td>\n",
              "      <td>2</td>\n",
              "      <td>0</td>\n",
              "      <td>multipart/alternative</td>\n",
              "      <td>0</td>\n",
              "      <td>1</td>\n",
              "      <td>1</td>\n",
              "      <td>0</td>\n",
              "      <td>57.0</td>\n",
              "      <td>21063</td>\n",
              "    </tr>\n",
              "  </tbody>\n",
              "</table>\n",
              "<p>10620 rows × 12 columns</p>\n",
              "</div>\n",
              "      <button class=\"colab-df-convert\" onclick=\"convertToInteractive('df-6912af12-43ba-4b35-ab2c-cd2def7e2dd5')\"\n",
              "              title=\"Convert this dataframe to an interactive table.\"\n",
              "              style=\"display:none;\">\n",
              "        \n",
              "  <svg xmlns=\"http://www.w3.org/2000/svg\" height=\"24px\"viewBox=\"0 0 24 24\"\n",
              "       width=\"24px\">\n",
              "    <path d=\"M0 0h24v24H0V0z\" fill=\"none\"/>\n",
              "    <path d=\"M18.56 5.44l.94 2.06.94-2.06 2.06-.94-2.06-.94-.94-2.06-.94 2.06-2.06.94zm-11 1L8.5 8.5l.94-2.06 2.06-.94-2.06-.94L8.5 2.5l-.94 2.06-2.06.94zm10 10l.94 2.06.94-2.06 2.06-.94-2.06-.94-.94-2.06-.94 2.06-2.06.94z\"/><path d=\"M17.41 7.96l-1.37-1.37c-.4-.4-.92-.59-1.43-.59-.52 0-1.04.2-1.43.59L10.3 9.45l-7.72 7.72c-.78.78-.78 2.05 0 2.83L4 21.41c.39.39.9.59 1.41.59.51 0 1.02-.2 1.41-.59l7.78-7.78 2.81-2.81c.8-.78.8-2.07 0-2.86zM5.41 20L4 18.59l7.72-7.72 1.47 1.35L5.41 20z\"/>\n",
              "  </svg>\n",
              "      </button>\n",
              "      \n",
              "  <style>\n",
              "    .colab-df-container {\n",
              "      display:flex;\n",
              "      flex-wrap:wrap;\n",
              "      gap: 12px;\n",
              "    }\n",
              "\n",
              "    .colab-df-convert {\n",
              "      background-color: #E8F0FE;\n",
              "      border: none;\n",
              "      border-radius: 50%;\n",
              "      cursor: pointer;\n",
              "      display: none;\n",
              "      fill: #1967D2;\n",
              "      height: 32px;\n",
              "      padding: 0 0 0 0;\n",
              "      width: 32px;\n",
              "    }\n",
              "\n",
              "    .colab-df-convert:hover {\n",
              "      background-color: #E2EBFA;\n",
              "      box-shadow: 0px 1px 2px rgba(60, 64, 67, 0.3), 0px 1px 3px 1px rgba(60, 64, 67, 0.15);\n",
              "      fill: #174EA6;\n",
              "    }\n",
              "\n",
              "    [theme=dark] .colab-df-convert {\n",
              "      background-color: #3B4455;\n",
              "      fill: #D2E3FC;\n",
              "    }\n",
              "\n",
              "    [theme=dark] .colab-df-convert:hover {\n",
              "      background-color: #434B5C;\n",
              "      box-shadow: 0px 1px 3px 1px rgba(0, 0, 0, 0.15);\n",
              "      filter: drop-shadow(0px 1px 2px rgba(0, 0, 0, 0.3));\n",
              "      fill: #FFFFFF;\n",
              "    }\n",
              "  </style>\n",
              "\n",
              "      <script>\n",
              "        const buttonEl =\n",
              "          document.querySelector('#df-6912af12-43ba-4b35-ab2c-cd2def7e2dd5 button.colab-df-convert');\n",
              "        buttonEl.style.display =\n",
              "          google.colab.kernel.accessAllowed ? 'block' : 'none';\n",
              "\n",
              "        async function convertToInteractive(key) {\n",
              "          const element = document.querySelector('#df-6912af12-43ba-4b35-ab2c-cd2def7e2dd5');\n",
              "          const dataTable =\n",
              "            await google.colab.kernel.invokeFunction('convertToInteractive',\n",
              "                                                     [key], {});\n",
              "          if (!dataTable) return;\n",
              "\n",
              "          const docLinkHtml = 'Like what you see? Visit the ' +\n",
              "            '<a target=\"_blank\" href=https://colab.research.google.com/notebooks/data_table.ipynb>data table notebook</a>'\n",
              "            + ' to learn more about interactive tables.';\n",
              "          element.innerHTML = '';\n",
              "          dataTable['output_type'] = 'display_data';\n",
              "          await google.colab.output.renderOutput(dataTable, element);\n",
              "          const docLink = document.createElement('div');\n",
              "          docLink.innerHTML = docLinkHtml;\n",
              "          element.appendChild(docLink);\n",
              "        }\n",
              "      </script>\n",
              "    </div>\n",
              "  </div>\n",
              "  "
            ]
          },
          "metadata": {},
          "execution_count": 123
        }
      ]
    },
    {
      "cell_type": "code",
      "source": [
        "# FOR TRAIN\n",
        "# there are duplicates ie mail that have more than 1 label.\n",
        "# to take this info into account, we will add 8 columns, with default value 0, and 1 if we find a duplicate with different label \n",
        "\n",
        "dup_dic = dict()\n",
        "\n",
        "for email in df_train.itertuples(index=False, name = None):\n",
        "  email_no_lab = email[0:-1]\n",
        "  email_no_lab = tuple(map(str, email_no_lab))\n",
        "  # first, we are going to fill a dictionary where key is the label free tuple and value is a list of the label it has received\n",
        "  if email_no_lab not in dup_dic.keys():\n",
        "    if email[-1] is None:\n",
        "      dup_dic[email_no_lab] = []\n",
        "    else: \n",
        "      dup_dic[email_no_lab] = [email[-1]] # we add the label as first value\n",
        "  elif email_no_lab in dup_dic.keys():\n",
        "    # part for the test set: in that case, nothing to add because there is no label to add\n",
        "    if email[-1] is None: \n",
        "      pass\n",
        "    else:\n",
        "      dup_dic[email_no_lab].append(email[-1]) # we add the label to the list of labels\n",
        "      dup_dic[email_no_lab] = list(set(dup_dic[email_no_lab]))\n",
        "\n",
        "# we add 1 column for each of the label\n",
        "for col in range(8):\n",
        "  col_name = 'label_' + str(col)\n",
        "  df_train[col_name] = 0\n",
        "  for email in df_train.itertuples(name = None):\n",
        "    index = email[0]\n",
        "    email_no_lab = email[1:13]\n",
        "    email_no_lab = tuple(map(str, email_no_lab))\n",
        "    label = email[-1]\n",
        "    label_list = dup_dic[email_no_lab]\n",
        "    if col in label_list:\n",
        "      df_train.loc[index, col_name] = 1\n"
      ],
      "metadata": {
        "id": "gmxwPdGjEXQi"
      },
      "execution_count": null,
      "outputs": []
    },
    {
      "cell_type": "code",
      "source": [
        "\n",
        "# we set 0 to label column corresponding to label  \n",
        "for idx, row in df_train.iterrows():\n",
        "  label = row['label']\n",
        "  column = 'label_' + str(label)\n",
        "  df_train.loc[idx, column] = 0"
      ],
      "metadata": {
        "id": "Tb05coz_Ltno"
      },
      "execution_count": null,
      "outputs": []
    },
    {
      "cell_type": "code",
      "source": [
        "# FOR TEST\n",
        "df_test['label'] = 9 # we initialize label column in test with value not in 0-8"
      ],
      "metadata": {
        "id": "Vb5tuL0HT_z8"
      },
      "execution_count": null,
      "outputs": []
    },
    {
      "cell_type": "code",
      "source": [
        "# there are duplicates ie mail that have more than 1 label.\n",
        "# to take this info into account, we will add 8 columns, with default value 0, and 1 if we find a duplicate with different label \n",
        "\n",
        "for email in df_test.itertuples(index=False, name = None):\n",
        "  email_no_lab = email[0:-1]\n",
        "  email_no_lab = tuple(map(str, email_no_lab))\n",
        "  # first, we are going to fill a dictionary where key is the label free tuple and value is a list of the label it has received\n",
        "  if email_no_lab not in dup_dic.keys():\n",
        "    if email[-1] is None:\n",
        "      dup_dic[email_no_lab] = []\n",
        "    else: \n",
        "      dup_dic[email_no_lab] = [email[-1]] # we add the label as first value\n",
        "  elif email_no_lab in dup_dic.keys():\n",
        "    # part for the test set: in that case, nothing to add because there is no label to add\n",
        "    if email[-1] is None: \n",
        "      pass\n",
        "    else:\n",
        "      dup_dic[email_no_lab].append(email[-1]) # we add the label to the list of labels\n",
        "      dup_dic[email_no_lab] = list(set(dup_dic[email_no_lab]))\n",
        "\n",
        "# we add 1 column for each of the label\n",
        "for col in range(8):\n",
        "  col_name = 'label_' + str(col)\n",
        "  df_test[col_name] = 0\n",
        "  for email in df_test.itertuples(name = None):\n",
        "    index = email[0]\n",
        "    email_no_lab = email[1:13]\n",
        "    email_no_lab = tuple(map(str, email_no_lab))\n",
        "    label = email[-1]\n",
        "    label_list = dup_dic[email_no_lab]\n",
        "    if col in label_list:\n",
        "      df_test.loc[index, col_name] = 1\n"
      ],
      "metadata": {
        "id": "xxOtBrpeTl_a"
      },
      "execution_count": null,
      "outputs": []
    },
    {
      "cell_type": "code",
      "source": [
        "df_test = df_test.drop('label', axis=1)"
      ],
      "metadata": {
        "id": "7kyyRFf4WP2B"
      },
      "execution_count": null,
      "outputs": []
    },
    {
      "cell_type": "code",
      "source": [
        "print(df_train.shape, df_test.shape)"
      ],
      "metadata": {
        "colab": {
          "base_uri": "https://localhost:8080/"
        },
        "id": "q1ynvTs5WUYX",
        "outputId": "ab15ed96-811f-4c4f-e403-40def553a4c7"
      },
      "execution_count": null,
      "outputs": [
        {
          "output_type": "stream",
          "name": "stdout",
          "text": [
            "(80176, 21) (34365, 20)\n"
          ]
        }
      ]
    },
    {
      "cell_type": "markdown",
      "source": [
        "### No_url and no_ccs columns"
      ],
      "metadata": {
        "id": "H_Kh11QuOYVy"
      }
    },
    {
      "cell_type": "code",
      "execution_count": null,
      "metadata": {
        "id": "oM6CGk-t7uOL"
      },
      "outputs": [],
      "source": [
        "#Creating a one hot econding column for when there is no url or no css\n",
        "def no_col(rows, col_name):\n",
        "    if rows[col_name] != 0:\n",
        "        return 0\n",
        "    else:\n",
        "        return 1\n",
        "\n",
        "## For train set\n",
        "df_train[\"no_url\"]= df_train.apply(lambda row: no_col(row, 'urls'), axis=1)\n",
        "df_train[\"no_ccs\"]= df_train.apply(lambda row: no_col(row, 'ccs'), axis=1)\n",
        "\n",
        "\n",
        "## For test set\n",
        "df_test[\"no_url\"]= df_test.apply(lambda row: no_col(row, 'urls'), axis=1)\n",
        "df_test[\"no_ccs\"]= df_test.apply(lambda row: no_col(row, 'ccs'), axis=1)"
      ]
    },
    {
      "cell_type": "markdown",
      "source": [
        "### Numerical values: chars_in_subject, chars_in_body, urls, images"
      ],
      "metadata": {
        "id": "KVigq1BBOhG2"
      }
    },
    {
      "cell_type": "code",
      "source": [
        "# replacing nas in chars in body by 0\n",
        "df_train['chars_in_subject'] = df_train['chars_in_subject'].fillna(0)\n",
        "df_test['chars_in_subject'] = df_test['chars_in_subject'].fillna(0)"
      ],
      "metadata": {
        "id": "Xp8N7_4GgqsH"
      },
      "execution_count": null,
      "outputs": []
    },
    {
      "cell_type": "code",
      "execution_count": null,
      "metadata": {
        "id": "GZ_Bmx0ndD3K"
      },
      "outputs": [],
      "source": [
        "#Discretize numerical variables - quantile bins\n",
        "#Number of characters in body\n",
        "df_train['quantile_chars_body'] = pd.qcut(df_train['chars_in_body'],\n",
        "                              q=[0, .2, .4, .6, .8, 1],\n",
        "                              labels=[1,2,3,4,5])\n",
        "\n",
        "df_test['quantile_chars_body'] = pd.qcut(df_test['chars_in_body'],\n",
        "                              q=[0, .2, .4, .6, .8, 1],\n",
        "                              labels=[1,2,3,4,5])\n",
        "\n",
        "#Images\n",
        "df_train['quantile_images'] = pd.qcut(df_train['images'], q=5, labels=[1,2,3,4], duplicates= 'drop')\n",
        "df_test['quantile_images'] = pd.qcut(df_test['images'], q=5, labels=[1,2,3,4], duplicates= 'drop')\n",
        "\n",
        "#Urls\n",
        "df_train['quantile_urls'] = pd.qcut(df_train['urls'], q=5, labels=[1,2,3,4,5], duplicates= 'drop')\n",
        "df_test['quantile_urls'] = pd.qcut(df_test['urls'], q=5, labels=[1,2,3,4,5], duplicates= 'drop')\n",
        "\n",
        "#Number of characters in \n",
        "df_train['quantile_chars_subject'] = pd.qcut(df_train['chars_in_subject'], q=5, labels=[1,2,3,4,5], duplicates= 'drop')\n",
        "df_test['quantile_chars_subject'] = pd.qcut(df_test['chars_in_subject'], q=5, labels=[1,2,3,4,5], duplicates= 'drop')"
      ]
    },
    {
      "cell_type": "code",
      "source": [
        "#Save in a list the indexes of the row instances where the variables images, urls, chars_in_body and chars_in_subject are equal to 0\n",
        "no_image = df_train.index[df_train['images'] == 0].tolist()\n",
        "no_urls = df_train.index[df_train['urls'] == 0].tolist()\n",
        "no_chars_body = df_train.index[df_train['chars_in_body'] == 0].tolist()\n",
        "no_chars_sub = df_train.index[df_train['chars_in_subject'] == 0].tolist()\n",
        "\n",
        "no_image_t = df_test.index[df_test['images'] == 0].tolist()\n",
        "no_urls_t = df_test.index[df_test['urls'] == 0].tolist()\n",
        "no_chars_body_t = df_test.index[df_test['chars_in_body'] == 0].tolist()\n",
        "no_chars_sub_t = df_test.index[df_test['chars_in_subject'] == 0].tolist()\n"
      ],
      "metadata": {
        "id": "aNPBdOYmgM8r"
      },
      "execution_count": null,
      "outputs": []
    },
    {
      "cell_type": "code",
      "source": [
        "#Changing the data type of the quantile columns to int type, so that they can be updated\n",
        "df_train[\"quantile_images\"] = df_train['quantile_images'].astype('int')\n",
        "df_train[\"quantile_urls\"] = df_train['quantile_urls'].astype('int')\n",
        "df_train[\"quantile_chars_body\"] = df_train['quantile_chars_body'].astype('int')\n",
        "df_train[\"quantile_chars_subject\"] = df_train['quantile_chars_subject'].astype('int')\n",
        "\n",
        "df_test[\"quantile_images\"] = df_test['quantile_images'].astype('int')\n",
        "df_test[\"quantile_urls\"] = df_test['quantile_urls'].astype('int')\n",
        "df_test[\"quantile_chars_body\"] = df_test['quantile_chars_body'].astype('int')\n",
        "df_test[\"quantile_chars_subject\"] = df_test['quantile_chars_subject'].astype('int')"
      ],
      "metadata": {
        "id": "IERbkW6jgOrd"
      },
      "execution_count": null,
      "outputs": []
    },
    {
      "cell_type": "code",
      "source": [
        "#Function changing to zero the values at the given row indexes\n",
        "def change_zeros(list, col,dataframe):\n",
        "  for ind in list:\n",
        "    dataframe.at[ind,col]= 0\n",
        "  return None\n",
        "\n",
        "#changing the category of the discretized variables to 0, when the regular variable is equal to 0. \n",
        "change_zeros(no_image,'quantile_images', df_train)\n",
        "change_zeros(no_urls,'quantile_urls', df_train)\n",
        "change_zeros(no_chars_sub,'quantile_chars_subject', df_train)\n",
        "\n",
        "change_zeros(no_image_t,'quantile_images', df_test)\n",
        "change_zeros(no_urls_t,'quantile_urls', df_test)\n",
        "change_zeros(no_chars_sub_t,'quantile_chars_subject', df_test)"
      ],
      "metadata": {
        "id": "QvF12jNGkP2r"
      },
      "execution_count": null,
      "outputs": []
    },
    {
      "cell_type": "code",
      "source": [
        "# check if mail is image heavy compared to nb of chars in body\n",
        "df_train['image_heavy'] = df_train.apply(lambda x: 1 if x['quantile_chars_body'] > x['quantile_images'] else 0, axis=1)\n",
        "df_test['image_heavy'] = df_test.apply(lambda x: 1 if x['quantile_chars_body'] > x['quantile_images'] else 0, axis=1)"
      ],
      "metadata": {
        "id": "z1XdPk8IsB9g"
      },
      "execution_count": null,
      "outputs": []
    },
    {
      "cell_type": "code",
      "source": [
        "df_train['log_image_char'] = df_train.apply(lambda x: np.log2(x['chars_in_body'] + 1) + np.log2(x['images'] + 1), axis=1)\n",
        "df_test['log_image_char'] = df_test.apply(lambda x: np.log2(x['chars_in_body'] + 1) + np.log2(x['images'] + 1), axis=1)"
      ],
      "metadata": {
        "id": "4XE1qets3Nzd"
      },
      "execution_count": null,
      "outputs": []
    },
    {
      "cell_type": "code",
      "execution_count": null,
      "metadata": {
        "id": "fEKKpS4TtzpJ"
      },
      "outputs": [],
      "source": [
        "#dropping the numerical variables from the dataset\n",
        "df_train = df_train.drop(['chars_in_body','images','urls','chars_in_subject'], axis=1)\n",
        "\n",
        "df_test = df_test.drop(['chars_in_body','images','urls','chars_in_subject'], axis=1)\n"
      ]
    },
    {
      "cell_type": "markdown",
      "source": [
        "### Datetime "
      ],
      "metadata": {
        "id": "bM3upJJQOyuw"
      }
    },
    {
      "cell_type": "code",
      "source": [
        "# we delete format (GMT+xx:xx) which make todatetime fail\n",
        "import re\n",
        "df_train['date'] = df_train['date'].map(lambda x: re.sub(r' \\(GMT.*\\)','',x))\n",
        "df_test['date'] = df_test['date'].map(lambda x: re.sub(r' \\(GMT.*\\)','',x))"
      ],
      "metadata": {
        "id": "B1if3LkxQ0oh"
      },
      "execution_count": null,
      "outputs": []
    },
    {
      "cell_type": "code",
      "execution_count": null,
      "metadata": {
        "id": "FT1ck8VIPVFz"
      },
      "outputs": [],
      "source": [
        "#this means that pandas sees this column as a string, not a datetime, we fix that\n",
        "df_train['date']=pd.to_datetime(df_train['date'], errors='coerce', infer_datetime_format=True, utc=True)\n",
        "\n",
        "df_test['date']=pd.to_datetime(df_test['date'], errors='coerce', infer_datetime_format=True, utc=True)\n"
      ]
    },
    {
      "cell_type": "code",
      "execution_count": null,
      "metadata": {
        "id": "jOb_3pW5PVFz"
      },
      "outputs": [],
      "source": [
        "#From the datetime we extract the day, hour, year, month and day of the week and create new variables\n",
        "df_train['day']=df_train['date'].dt.day\n",
        "df_train['hour']=df_train['date'].dt.hour\n",
        "df_train['year']=df_train['date'].dt.year\n",
        "df_train['month']=df_train['date'].dt.month\n",
        "df_train['weekday']=df_train['date'].dt.dayofweek\n",
        "\n",
        "df_test['day']=df_test['date'].dt.day\n",
        "df_test['hour']=df_test['date'].dt.hour\n",
        "df_test['year']=df_test['date'].dt.year\n",
        "df_test['month']=df_test['date'].dt.month\n",
        "df_test['weekday']=df_test['date'].dt.dayofweek"
      ]
    },
    {
      "cell_type": "code",
      "execution_count": null,
      "metadata": {
        "id": "bE2a0uA9xcXO"
      },
      "outputs": [],
      "source": [
        "#Dropping the date variables\n",
        "df_train = df_train.drop(['date'], axis=1)\n",
        "\n",
        "df_test = df_test.drop(['date'], axis=1)"
      ]
    },
    {
      "cell_type": "markdown",
      "source": [
        "### Mail type encoding"
      ],
      "metadata": {
        "id": "JJ4aqBlKPdKs"
      }
    },
    {
      "cell_type": "code",
      "execution_count": null,
      "metadata": {
        "colab": {
          "base_uri": "https://localhost:8080/"
        },
        "id": "9HWVzlEJPVF0",
        "outputId": "ab76e15d-0902-4c3f-dae2-fa73fbaff310"
      },
      "outputs": [
        {
          "output_type": "stream",
          "name": "stdout",
          "text": [
            "['multipart', 'not_text_multipart', 'text']\n",
            "['others_mail_type', 'signed', 'idm', 'related', 'plain', 'alternative', 'calendar', 'report', 'html', 'mixed']\n"
          ]
        }
      ],
      "source": [
        "from sklearn.preprocessing import OneHotEncoder\n",
        "import numpy as np\n",
        "\n",
        "\n",
        "#creating instance of one-hot-encoder\n",
        "encoder = OneHotEncoder(handle_unknown='ignore')\n",
        "\n",
        "#splitting the mail type values in its componing parts\n",
        "df_mail_type = df_train['mail_type'].str.lower().str.strip().str.split('/', expand=True)\n",
        "df_mail_type_test = df_test['mail_type'].str.lower().str.strip().str.split('/', expand=True)\n",
        "\n",
        "# to make sure the value before \"/\" and after don't repeat\n",
        "mail_type_list0 = list(set(df_mail_type[0].tolist()))\n",
        "mail_type_list1 = list(set(df_mail_type[1].tolist()))\n",
        "mail_type_list0 = [str(x) for x in mail_type_list0]\n",
        "mail_type_list1 = [str(x) for x in mail_type_list1]\n",
        "\n",
        "mail_type_list0_t = list(set(df_mail_type_test[0].tolist()))\n",
        "mail_type_list1_t = list(set(df_mail_type_test[1].tolist()))\n",
        "mail_type_list0_t = [str(x) for x in mail_type_list0_t]\n",
        "mail_type_list1_t = [str(x) for x in mail_type_list1_t]\n",
        "\n",
        "\n",
        "i = mail_type_list0.index('nan')\n",
        "i_t = mail_type_list0_t.index('nan')\n",
        "  \n",
        "# replace Rahul with Shikhar\n",
        "mail_type_list0 = mail_type_list0[:i]+['not_text_multipart']+mail_type_list0[i+1:]\n",
        "mail_type_list0_t = mail_type_list0_t[:i]+['not_text_multipart']+mail_type_list0_t[i+1:]\n",
        "\n",
        "i = mail_type_list1.index('nan')\n",
        "i = mail_type_list1_t.index('nan')\n",
        "  \n",
        "# replace Rahul with Shikhar\n",
        "mail_type_list1 = mail_type_list1[:i]+['others_mail_type']+mail_type_list1[i+1:]\n",
        "mail_type_list1_t = mail_type_list1_t[:i]+['others_mail_type']+mail_type_list1_t[i+1:]\n",
        "\n",
        "print(mail_type_list0)\n",
        "print(mail_type_list1)\n",
        "\n",
        "#train\n",
        "# encode the first column\n",
        "encoder_df1 = pd.DataFrame(encoder.fit_transform(df_mail_type[[0]]).toarray())\n",
        "encoder_df1.columns = mail_type_list0\n",
        "\n",
        "# encode the second column\n",
        "encoder_df2 = pd.DataFrame(encoder.fit_transform(df_mail_type[[1]]).toarray())\n",
        "encoder_df2.columns = mail_type_list1\n",
        "\n",
        "#test\n",
        "# encode the first column\n",
        "encoder_df1_t = pd.DataFrame(encoder.fit_transform(df_mail_type_test[[0]]).toarray())\n",
        "encoder_df1_t.columns = mail_type_list0_t\n",
        "\n",
        "# encode the second column\n",
        "encoder_df2_t = pd.DataFrame(encoder.fit_transform(df_mail_type_test[[1]]).toarray())\n",
        "encoder_df2_t.columns = mail_type_list1_t\n",
        "\n",
        "# combine them back to df_train\n",
        "df_train = pd.concat([df_train, encoder_df1, encoder_df2], axis=1)\n",
        "df_train.drop('mail_type', axis=1, inplace=True)\n",
        "df_train.drop(\"not_text_multipart\", axis=1, inplace=True)\n",
        "df_train.drop(\"others_mail_type\", axis=1, inplace=True)\n",
        "\n",
        "df_test = pd.concat([df_test, encoder_df1_t, encoder_df2_t], axis=1)\n",
        "df_test.drop('mail_type', axis=1, inplace=True)\n",
        "df_test.drop(\"not_text_multipart\", axis=1, inplace=True)\n",
        "df_test.drop(\"others_mail_type\", axis=1, inplace=True)\n",
        "\n"
      ]
    },
    {
      "cell_type": "code",
      "execution_count": null,
      "metadata": {
        "colab": {
          "base_uri": "https://localhost:8080/"
        },
        "id": "QZ0NmhWH4UYc",
        "outputId": "f745e1b7-3c9d-4c83-faaf-39893b3b56bb"
      },
      "outputs": [
        {
          "output_type": "stream",
          "name": "stdout",
          "text": [
            "(80176, 39)\n",
            "(34365, 37)\n"
          ]
        }
      ],
      "source": [
        "print(df_train.shape)\n",
        "print(df_test.shape)\n"
      ]
    },
    {
      "cell_type": "code",
      "execution_count": null,
      "metadata": {
        "colab": {
          "base_uri": "https://localhost:8080/"
        },
        "id": "ltH8YqfmKQ85",
        "outputId": "080da037-77fa-4be1-bc8b-1d962fc893b5"
      },
      "outputs": [
        {
          "output_type": "stream",
          "name": "stdout",
          "text": [
            "label <class 'str'>\n",
            "calendar <class 'str'>\n"
          ]
        }
      ],
      "source": [
        "#checking if there are variables in the train that are not present in the test\n",
        "for i in list(df_train):\n",
        "  if i not in list(df_test):\n",
        "    print(i, type(i))\n",
        "  "
      ]
    },
    {
      "cell_type": "code",
      "source": [
        "#droping calendar because it is not in the df_test, and as a consequence could not be used to predict the test\n",
        "df_train = df_train.drop('calendar', axis=1)"
      ],
      "metadata": {
        "id": "4I1lgNzYjy5Y"
      },
      "execution_count": null,
      "outputs": []
    },
    {
      "cell_type": "code",
      "execution_count": null,
      "metadata": {
        "id": "h_B7knBjl0ti"
      },
      "outputs": [],
      "source": [
        "for i in list(df_test):\n",
        "  if i not in list(df_train):\n",
        "    print(i, type(i))"
      ]
    },
    {
      "cell_type": "code",
      "execution_count": null,
      "metadata": {
        "colab": {
          "base_uri": "https://localhost:8080/"
        },
        "id": "TIE72Z8wtSZA",
        "outputId": "9d44d662-bf66-48a4-ec90-ce8854a9e91d"
      },
      "outputs": [
        {
          "output_type": "stream",
          "name": "stdout",
          "text": [
            "(80176, 38)\n",
            "(34365, 37)\n"
          ]
        }
      ],
      "source": [
        "print(df_train.shape)\n",
        "print(df_test.shape)"
      ]
    },
    {
      "cell_type": "code",
      "source": [
        "df_train.isna().sum()"
      ],
      "metadata": {
        "colab": {
          "base_uri": "https://localhost:8080/"
        },
        "id": "XIY45rbgkWd2",
        "outputId": "334da76f-a9e3-43a4-c77c-72a34b8083ba"
      },
      "execution_count": null,
      "outputs": [
        {
          "output_type": "execute_result",
          "data": {
            "text/plain": [
              "org                       3451\n",
              "tld                       3453\n",
              "ccs                          0\n",
              "bcced                        0\n",
              "salutations                  0\n",
              "designation                  0\n",
              "label                        0\n",
              "label_0                      0\n",
              "label_1                      0\n",
              "label_2                      0\n",
              "label_3                      0\n",
              "label_4                      0\n",
              "label_5                      0\n",
              "label_6                      0\n",
              "label_7                      0\n",
              "no_url                       0\n",
              "no_ccs                       0\n",
              "quantile_chars_body          0\n",
              "quantile_images              0\n",
              "quantile_urls                0\n",
              "quantile_chars_subject       0\n",
              "image_heavy                  0\n",
              "log_image_char               0\n",
              "day                          0\n",
              "hour                         0\n",
              "year                         0\n",
              "month                        0\n",
              "weekday                      0\n",
              "multipart                    0\n",
              "text                         0\n",
              "signed                       0\n",
              "idm                          0\n",
              "related                      0\n",
              "plain                        0\n",
              "alternative                  0\n",
              "report                       0\n",
              "html                         0\n",
              "mixed                        0\n",
              "dtype: int64"
            ]
          },
          "metadata": {},
          "execution_count": 155
        }
      ]
    },
    {
      "cell_type": "code",
      "source": [
        "df_test.isna().sum()"
      ],
      "metadata": {
        "colab": {
          "base_uri": "https://localhost:8080/"
        },
        "id": "7YGK6_lSkscn",
        "outputId": "741a3d94-0aeb-4685-a93d-580d8045409d"
      },
      "execution_count": null,
      "outputs": [
        {
          "output_type": "execute_result",
          "data": {
            "text/plain": [
              "org                       1536\n",
              "tld                       1536\n",
              "ccs                          0\n",
              "bcced                        0\n",
              "salutations                  0\n",
              "designation                  0\n",
              "label_0                      0\n",
              "label_1                      0\n",
              "label_2                      0\n",
              "label_3                      0\n",
              "label_4                      0\n",
              "label_5                      0\n",
              "label_6                      0\n",
              "label_7                      0\n",
              "no_url                       0\n",
              "no_ccs                       0\n",
              "quantile_chars_body          0\n",
              "quantile_images              0\n",
              "quantile_urls                0\n",
              "quantile_chars_subject       0\n",
              "image_heavy                  0\n",
              "log_image_char               0\n",
              "day                          0\n",
              "hour                         0\n",
              "year                         0\n",
              "month                        0\n",
              "weekday                      0\n",
              "multipart                    0\n",
              "text                         0\n",
              "signed                       0\n",
              "idm                          0\n",
              "related                      0\n",
              "plain                        0\n",
              "alternative                  0\n",
              "report                       0\n",
              "html                         0\n",
              "mixed                        0\n",
              "dtype: int64"
            ]
          },
          "metadata": {},
          "execution_count": 156
        }
      ]
    },
    {
      "cell_type": "markdown",
      "source": [
        "### tld and org"
      ],
      "metadata": {
        "id": "1z12xgSoPsdQ"
      }
    },
    {
      "cell_type": "code",
      "source": [
        "# dealing with nas in tld and org\n",
        "\n",
        "df_train['tld'] = df_train['tld'].fillna('not_defined')\n",
        "df_train['org'] = df_train['org'].fillna('not_defined')\n",
        "\n",
        "\n",
        "df_test['tld'] = df_test['tld'].fillna('not_defined')\n",
        "df_test['org'] = df_test['org'].fillna('not_defined')"
      ],
      "metadata": {
        "id": "AadjDkezkapb"
      },
      "execution_count": null,
      "outputs": []
    },
    {
      "cell_type": "code",
      "execution_count": null,
      "metadata": {
        "id": "pifhosSTTRsp"
      },
      "outputs": [],
      "source": [
        "# function to target encode tld and org\n",
        "def target_encoder(df_train, column_):\n",
        "    temp_df = df_train.copy()\n",
        "    temp_df['type'] = 1\n",
        "\n",
        "    temp_df[\"label_name\"] = temp_df['label'].map({0:\"Updates_\"+column_,1:\"Personal_\"+column_, 2:\"Promotions_\"+column_, 3:\"Forums_\"+column_, 4:\"Purchases_\"+column_,5:\"Travel_\"+column_,6:\"Spam_\"+column_,7:\"Social_\"+column_})\n",
        "    \n",
        "    temp_df_pivot = temp_df.pivot(columns = 'label_name', values = 'type').fillna(0)\n",
        "    \n",
        "    temp_df = temp_df.join(temp_df_pivot)\n",
        "    \n",
        "    temp_df = temp_df[[column_, \"Updates_\"+column_,\"Personal_\"+column_, \"Promotions_\"+column_, \"Forums_\"+column_, \"Purchases_\"+column_,\"Travel_\"+column_,\"Spam_\"+column_,\"Social_\"+column_]].groupby(column_).mean()\n",
        "\n",
        "    return temp_df"
      ]
    },
    {
      "cell_type": "code",
      "execution_count": null,
      "metadata": {
        "id": "ctm9_10YTRsp"
      },
      "outputs": [],
      "source": [
        "temp_df = target_encoder(df_train, \"org\")\n",
        "\n",
        "df_train = pd.merge(df_train, temp_df,on = \"org\", how= \"left\")\n",
        "df_test = pd.merge(df_test, temp_df,on = \"org\", how= \"left\")\n",
        "\n",
        "\n",
        "temp_df = target_encoder(df_train, \"tld\")\n",
        "\n",
        "df_train = pd.merge(df_train, temp_df,on = \"tld\", how= \"left\")\n",
        "df_test = pd.merge(df_test, temp_df,on = \"tld\", how= \"left\")"
      ]
    },
    {
      "cell_type": "code",
      "source": [
        "na_col_train = df_train.columns[df_train.isna().any()]\n",
        "na_col_test = df_test.columns[df_test.isna().any()]\n",
        "\n",
        "print('train: ', na_col_train)\n",
        "print('test: ', na_col_test)"
      ],
      "metadata": {
        "colab": {
          "base_uri": "https://localhost:8080/"
        },
        "id": "I8CJcxjbSizz",
        "outputId": "32bf5dd0-2c03-448e-abc4-cd0b96f0aca3"
      },
      "execution_count": null,
      "outputs": [
        {
          "output_type": "stream",
          "name": "stdout",
          "text": [
            "train:  Index([], dtype='object')\n",
            "test:  Index(['Updates_org', 'Personal_org', 'Promotions_org', 'Forums_org',\n",
            "       'Purchases_org', 'Travel_org', 'Spam_org', 'Social_org', 'Updates_tld',\n",
            "       'Personal_tld', 'Promotions_tld', 'Forums_tld', 'Purchases_tld',\n",
            "       'Travel_tld', 'Spam_tld', 'Social_tld'],\n",
            "      dtype='object')\n"
          ]
        }
      ]
    },
    {
      "cell_type": "code",
      "source": [
        "# dealing with nas \n",
        "for i in na_col_test.tolist():\n",
        "  df_test[i] = df_test[i].fillna(0)"
      ],
      "metadata": {
        "id": "VfgLVQS_Wnit"
      },
      "execution_count": null,
      "outputs": []
    },
    {
      "cell_type": "code",
      "execution_count": null,
      "metadata": {
        "colab": {
          "base_uri": "https://localhost:8080/"
        },
        "id": "t2KtcTG-vUYo",
        "outputId": "81f3c21c-4c77-4b53-b4c9-885f78af40a5"
      },
      "outputs": [
        {
          "output_type": "stream",
          "name": "stdout",
          "text": [
            "(80176, 54) (34365, 53)\n"
          ]
        }
      ],
      "source": [
        "print(df_train.shape, df_test.shape)"
      ]
    },
    {
      "cell_type": "code",
      "source": [
        "for i in list(df_train):\n",
        "  if i not in list(df_test):\n",
        "    print(i, type(i))"
      ],
      "metadata": {
        "colab": {
          "base_uri": "https://localhost:8080/"
        },
        "id": "RN-5eARZlr07",
        "outputId": "5404bc70-f702-4e84-b7ef-679b8348e960"
      },
      "execution_count": null,
      "outputs": [
        {
          "output_type": "stream",
          "name": "stdout",
          "text": [
            "label <class 'str'>\n"
          ]
        }
      ]
    },
    {
      "cell_type": "code",
      "source": [
        "df_train.isna().sum()"
      ],
      "metadata": {
        "colab": {
          "base_uri": "https://localhost:8080/"
        },
        "id": "B77Tp8eBXAqn",
        "outputId": "3c42fffc-7794-4216-fca4-e863b8ec6e16"
      },
      "execution_count": null,
      "outputs": [
        {
          "output_type": "execute_result",
          "data": {
            "text/plain": [
              "org                       0\n",
              "tld                       0\n",
              "ccs                       0\n",
              "bcced                     0\n",
              "salutations               0\n",
              "designation               0\n",
              "label                     0\n",
              "label_0                   0\n",
              "label_1                   0\n",
              "label_2                   0\n",
              "label_3                   0\n",
              "label_4                   0\n",
              "label_5                   0\n",
              "label_6                   0\n",
              "label_7                   0\n",
              "no_url                    0\n",
              "no_ccs                    0\n",
              "quantile_chars_body       0\n",
              "quantile_images           0\n",
              "quantile_urls             0\n",
              "quantile_chars_subject    0\n",
              "image_heavy               0\n",
              "log_image_char            0\n",
              "day                       0\n",
              "hour                      0\n",
              "year                      0\n",
              "month                     0\n",
              "weekday                   0\n",
              "multipart                 0\n",
              "text                      0\n",
              "signed                    0\n",
              "idm                       0\n",
              "related                   0\n",
              "plain                     0\n",
              "alternative               0\n",
              "report                    0\n",
              "html                      0\n",
              "mixed                     0\n",
              "Updates_org               0\n",
              "Personal_org              0\n",
              "Promotions_org            0\n",
              "Forums_org                0\n",
              "Purchases_org             0\n",
              "Travel_org                0\n",
              "Spam_org                  0\n",
              "Social_org                0\n",
              "Updates_tld               0\n",
              "Personal_tld              0\n",
              "Promotions_tld            0\n",
              "Forums_tld                0\n",
              "Purchases_tld             0\n",
              "Travel_tld                0\n",
              "Spam_tld                  0\n",
              "Social_tld                0\n",
              "dtype: int64"
            ]
          },
          "metadata": {},
          "execution_count": 168
        }
      ]
    },
    {
      "cell_type": "markdown",
      "source": [
        "### tld and org new columns"
      ],
      "metadata": {
        "id": "cfOt4etiTCIY"
      }
    },
    {
      "cell_type": "code",
      "execution_count": null,
      "metadata": {
        "id": "kScowCfZZONF"
      },
      "outputs": [],
      "source": [
        "#Institution classification\n",
        "\n",
        "#One hot encoding of academic institutions\n",
        "def academic_institution(rows):\n",
        "    if 'ac.' in str(rows['tld']):\n",
        "        return 1\n",
        "    if 'edu' in str(rows['tld']):\n",
        "        return 1\n",
        "    if 'centralesupelec' in str(rows['org']):\n",
        "        return 1\n",
        "    if 'iiitd' in str(rows['org']):\n",
        "        return 1\n",
        "    else:\n",
        "        return 0\n",
        "\n",
        "#train    \n",
        "df_train.apply(lambda row: academic_institution(row), axis=1)\n",
        "df_train[\"academic\"]= df_train.apply(lambda row: academic_institution(row), axis=1)\n",
        "\n",
        "#test\n",
        "df_test.apply(lambda row: academic_institution(row), axis=1)\n",
        "df_test[\"academic\"]= df_test.apply(lambda row: academic_institution(row), axis=1)\n",
        "\n",
        "#one hot encodding of government institutions\n",
        "def gov_institution(rows):\n",
        "    if 'gov' in str(rows['tld']):\n",
        "        return 1\n",
        "    else:\n",
        "        return 0\n",
        "\n",
        "#train    \n",
        "df_train.apply(lambda row: gov_institution(row), axis=1)\n",
        "df_train[\"government\"]= df_train.apply(lambda row: gov_institution(row), axis=1)\n",
        "\n",
        "#test\n",
        "df_test.apply(lambda row: gov_institution(row), axis=1)\n",
        "df_test[\"government\"]= df_test.apply(lambda row: gov_institution(row), axis=1)\n",
        "\n",
        "#One hot encoding of elearning platforms\n",
        "def e_learning(rows):\n",
        "    courses = ['coursera','phpclasses','udacity']\n",
        "    if any(x in str(rows['org']) for x in courses):\n",
        "        return 1\n",
        "    else:\n",
        "        return 0\n",
        "\n",
        "#train    \n",
        "df_train.apply(lambda row: e_learning(row), axis=1)\n",
        "df_train[\"elearning\"]= df_train.apply(lambda row: e_learning(row), axis=1)\n",
        "\n",
        "#test\n",
        "df_test.apply(lambda row: e_learning(row), axis=1)\n",
        "df_test[\"elearning\"]= df_test.apply(lambda row: e_learning(row), axis=1)\n",
        "\n",
        "#one hot encoding of travel agencies\n",
        "def travel(rows):\n",
        "    traveling = ['airfrance', 'booking','goindigo','makemytrip', 'yatra']\n",
        "    if any(x in str(rows['org']) for x in traveling):\n",
        "        return 1\n",
        "    else:\n",
        "        return 0\n",
        "\n",
        "#train\n",
        "df_train.apply(lambda row: travel(row), axis=1)\n",
        "df_train[\"traveling\"]= df_train.apply(lambda row: travel(row), axis=1)\n",
        "\n",
        "#test\n",
        "df_test.apply(lambda row: travel(row), axis=1)\n",
        "df_test[\"traveling\"]= df_test.apply(lambda row: travel(row), axis=1)"
      ]
    },
    {
      "cell_type": "code",
      "execution_count": null,
      "metadata": {
        "id": "gyx8StQGLdQg",
        "colab": {
          "base_uri": "https://localhost:8080/"
        },
        "outputId": "0ba9e1c2-79c2-4fb8-a1dc-56fcafe37c42"
      },
      "outputs": [
        {
          "output_type": "stream",
          "name": "stdout",
          "text": [
            "(34365, 57)\n",
            "(80176, 58)\n"
          ]
        }
      ],
      "source": [
        "print(df_test.shape)\n",
        "print(df_train.shape)"
      ]
    },
    {
      "cell_type": "code",
      "execution_count": null,
      "metadata": {
        "id": "rSkyhrxWlf5d",
        "colab": {
          "base_uri": "https://localhost:8080/"
        },
        "outputId": "f2d63fc3-a357-4057-bfa8-6438f5c4a3c4"
      },
      "outputs": [
        {
          "output_type": "stream",
          "name": "stdout",
          "text": [
            "label\n"
          ]
        }
      ],
      "source": [
        "for i in list(df_train):\n",
        "  if i not in list(df_test):\n",
        "    print(i)"
      ]
    },
    {
      "cell_type": "code",
      "execution_count": null,
      "metadata": {
        "id": "2eBpMRBLO3FK"
      },
      "outputs": [],
      "source": [
        "#dropping the tld and org columns\n",
        "df_train = df_train.drop(['tld', 'org'], axis = 1)\n",
        "df_test = df_test.drop(['tld', 'org'], axis = 1)"
      ]
    },
    {
      "cell_type": "code",
      "execution_count": null,
      "metadata": {
        "colab": {
          "base_uri": "https://localhost:8080/"
        },
        "id": "uykfgmV1L5KZ",
        "outputId": "c55201c3-6006-4809-b784-0c8bc44382f3"
      },
      "outputs": [
        {
          "output_type": "stream",
          "name": "stdout",
          "text": [
            "(34365, 55)\n",
            "(80176, 56)\n"
          ]
        }
      ],
      "source": [
        "print(df_test.shape)\n",
        "print(df_train.shape)"
      ]
    },
    {
      "cell_type": "code",
      "source": [
        "df_train.isna().sum()"
      ],
      "metadata": {
        "colab": {
          "base_uri": "https://localhost:8080/"
        },
        "id": "z4Af_vXJTbzh",
        "outputId": "a8ea0872-6f20-405f-feeb-8a320f971a4b"
      },
      "execution_count": null,
      "outputs": [
        {
          "output_type": "execute_result",
          "data": {
            "text/plain": [
              "ccs                       0\n",
              "bcced                     0\n",
              "salutations               0\n",
              "designation               0\n",
              "label                     0\n",
              "label_0                   0\n",
              "label_1                   0\n",
              "label_2                   0\n",
              "label_3                   0\n",
              "label_4                   0\n",
              "label_5                   0\n",
              "label_6                   0\n",
              "label_7                   0\n",
              "no_url                    0\n",
              "no_ccs                    0\n",
              "quantile_chars_body       0\n",
              "quantile_images           0\n",
              "quantile_urls             0\n",
              "quantile_chars_subject    0\n",
              "image_heavy               0\n",
              "log_image_char            0\n",
              "day                       0\n",
              "hour                      0\n",
              "year                      0\n",
              "month                     0\n",
              "weekday                   0\n",
              "multipart                 0\n",
              "text                      0\n",
              "signed                    0\n",
              "idm                       0\n",
              "related                   0\n",
              "plain                     0\n",
              "alternative               0\n",
              "report                    0\n",
              "html                      0\n",
              "mixed                     0\n",
              "Updates_org               0\n",
              "Personal_org              0\n",
              "Promotions_org            0\n",
              "Forums_org                0\n",
              "Purchases_org             0\n",
              "Travel_org                0\n",
              "Spam_org                  0\n",
              "Social_org                0\n",
              "Updates_tld               0\n",
              "Personal_tld              0\n",
              "Promotions_tld            0\n",
              "Forums_tld                0\n",
              "Purchases_tld             0\n",
              "Travel_tld                0\n",
              "Spam_tld                  0\n",
              "Social_tld                0\n",
              "academic                  0\n",
              "government                0\n",
              "elearning                 0\n",
              "traveling                 0\n",
              "dtype: int64"
            ]
          },
          "metadata": {},
          "execution_count": 180
        }
      ]
    },
    {
      "cell_type": "code",
      "source": [
        "df_test.isna().sum()"
      ],
      "metadata": {
        "colab": {
          "base_uri": "https://localhost:8080/"
        },
        "id": "gC7FcO0WTe0h",
        "outputId": "b5652168-c871-4c05-b8fe-abd619f564dd"
      },
      "execution_count": null,
      "outputs": [
        {
          "output_type": "execute_result",
          "data": {
            "text/plain": [
              "ccs                       0\n",
              "bcced                     0\n",
              "salutations               0\n",
              "designation               0\n",
              "label_0                   0\n",
              "label_1                   0\n",
              "label_2                   0\n",
              "label_3                   0\n",
              "label_4                   0\n",
              "label_5                   0\n",
              "label_6                   0\n",
              "label_7                   0\n",
              "no_url                    0\n",
              "no_ccs                    0\n",
              "quantile_chars_body       0\n",
              "quantile_images           0\n",
              "quantile_urls             0\n",
              "quantile_chars_subject    0\n",
              "image_heavy               0\n",
              "log_image_char            0\n",
              "day                       0\n",
              "hour                      0\n",
              "year                      0\n",
              "month                     0\n",
              "weekday                   0\n",
              "multipart                 0\n",
              "text                      0\n",
              "signed                    0\n",
              "idm                       0\n",
              "related                   0\n",
              "plain                     0\n",
              "alternative               0\n",
              "report                    0\n",
              "html                      0\n",
              "mixed                     0\n",
              "Updates_org               0\n",
              "Personal_org              0\n",
              "Promotions_org            0\n",
              "Forums_org                0\n",
              "Purchases_org             0\n",
              "Travel_org                0\n",
              "Spam_org                  0\n",
              "Social_org                0\n",
              "Updates_tld               0\n",
              "Personal_tld              0\n",
              "Promotions_tld            0\n",
              "Forums_tld                0\n",
              "Purchases_tld             0\n",
              "Travel_tld                0\n",
              "Spam_tld                  0\n",
              "Social_tld                0\n",
              "academic                  0\n",
              "government                0\n",
              "elearning                 0\n",
              "traveling                 0\n",
              "dtype: int64"
            ]
          },
          "metadata": {},
          "execution_count": 181
        }
      ]
    },
    {
      "cell_type": "markdown",
      "source": [
        "### Label Encoding"
      ],
      "metadata": {
        "id": "020OuXuhThy5"
      }
    },
    {
      "cell_type": "code",
      "execution_count": null,
      "metadata": {
        "id": "u_tKPME170x5"
      },
      "outputs": [],
      "source": [
        "list_of_ord_variables=(\"day\",\"hour\", \"year\", \"month\", \"weekday\",'quantile_chars_body','quantile_images','quantile_urls','quantile_chars_subject')\n",
        "for var in list_of_ord_variables:\n",
        "    label_encoder(var, df_train)\n",
        "    label_encoder(var, df_test)"
      ]
    },
    {
      "cell_type": "code",
      "execution_count": null,
      "metadata": {
        "id": "0jB-G9NLRaGW"
      },
      "outputs": [],
      "source": [
        "#making sure that the label column is at the end of the dataframe\n",
        "label=df_train['label']\n",
        "df_train.pop('label')\n",
        "df_train=pd.concat([df_train, label], axis=1)"
      ]
    },
    {
      "cell_type": "code",
      "execution_count": null,
      "metadata": {
        "colab": {
          "base_uri": "https://localhost:8080/"
        },
        "id": "YQJJa4o8OnJv",
        "outputId": "a9cd8480-3de8-4105-cbd4-53ed98a2805e"
      },
      "outputs": [
        {
          "output_type": "stream",
          "name": "stdout",
          "text": [
            "no error\n"
          ]
        }
      ],
      "source": [
        "if 'label' in list(df_train)[:-1]:\n",
        "  print('error')\n",
        "else:\n",
        "  print('no error')"
      ]
    },
    {
      "cell_type": "code",
      "execution_count": null,
      "metadata": {
        "id": "5T52KymrOReq"
      },
      "outputs": [],
      "source": [
        "#ensuring that the df_test dataframe has the variables in the same order of the df_train dataframe\n",
        "df_test = df_test[list(df_train)[:-1]]"
      ]
    },
    {
      "cell_type": "code",
      "execution_count": null,
      "metadata": {
        "colab": {
          "base_uri": "https://localhost:8080/"
        },
        "id": "hwCzi0CNRxdP",
        "outputId": "745279eb-5b5d-48e4-e78d-914a5c5209d6"
      },
      "outputs": [
        {
          "output_type": "stream",
          "name": "stdout",
          "text": [
            "(34365, 55)\n",
            "(80176, 56)\n"
          ]
        }
      ],
      "source": [
        "print(df_test.shape)\n",
        "print(df_train.shape)"
      ]
    },
    {
      "cell_type": "code",
      "execution_count": null,
      "metadata": {
        "id": "z16OnnE7SgfG"
      },
      "outputs": [],
      "source": [
        "for ind in range(df_test.shape[1]):\n",
        "  if list(df_test)[ind] != list(df_train)[ind]:\n",
        "    print('in the test:', list(df_test)[ind], '\\tIn the train:',list(df_train)[ind] )"
      ]
    },
    {
      "cell_type": "code",
      "execution_count": null,
      "metadata": {
        "colab": {
          "base_uri": "https://localhost:8080/"
        },
        "id": "syDtvTwU061R",
        "outputId": "1f8a4643-d03c-44ce-c02f-142e47facd4f"
      },
      "outputs": [
        {
          "output_type": "execute_result",
          "data": {
            "text/plain": [
              "ccs                       0\n",
              "bcced                     0\n",
              "plain                     0\n",
              "alternative               0\n",
              "report                    0\n",
              "html                      0\n",
              "mixed                     0\n",
              "Updates_org               0\n",
              "Personal_org              0\n",
              "Promotions_org            0\n",
              "Forums_org                0\n",
              "Purchases_org             0\n",
              "Travel_org                0\n",
              "Spam_org                  0\n",
              "Social_org                0\n",
              "Updates_tld               0\n",
              "Personal_tld              0\n",
              "Promotions_tld            0\n",
              "Forums_tld                0\n",
              "Purchases_tld             0\n",
              "Travel_tld                0\n",
              "Spam_tld                  0\n",
              "Social_tld                0\n",
              "academic                  0\n",
              "government                0\n",
              "elearning                 0\n",
              "traveling                 0\n",
              "related                   0\n",
              "idm                       0\n",
              "signed                    0\n",
              "no_ccs                    0\n",
              "salutations               0\n",
              "designation               0\n",
              "label_0                   0\n",
              "label_1                   0\n",
              "label_2                   0\n",
              "label_3                   0\n",
              "label_4                   0\n",
              "label_5                   0\n",
              "label_6                   0\n",
              "label_7                   0\n",
              "no_url                    0\n",
              "quantile_chars_body       0\n",
              "text                      0\n",
              "quantile_images           0\n",
              "quantile_urls             0\n",
              "quantile_chars_subject    0\n",
              "image_heavy               0\n",
              "log_image_char            0\n",
              "day                       0\n",
              "hour                      0\n",
              "year                      0\n",
              "month                     0\n",
              "weekday                   0\n",
              "multipart                 0\n",
              "label                     0\n",
              "dtype: int64"
            ]
          },
          "metadata": {},
          "execution_count": 188
        }
      ],
      "source": [
        "df_train.isna().sum().sort_values(ascending =False)"
      ]
    },
    {
      "cell_type": "markdown",
      "metadata": {
        "id": "a8dBAvnIv5X-"
      },
      "source": [
        "# **END OF FEATURE ENGINEERING**"
      ]
    },
    {
      "cell_type": "markdown",
      "metadata": {
        "id": "Kmb6bc18TRs0"
      },
      "source": [
        "# **FEATURE SELECTION**"
      ]
    },
    {
      "cell_type": "code",
      "source": [
        "#resetting the indexes\n",
        "df_train = df_train.reset_index()\n",
        "df_test = df_test.reset_index()"
      ],
      "metadata": {
        "id": "boPD78wDU1Ub"
      },
      "execution_count": null,
      "outputs": []
    },
    {
      "cell_type": "code",
      "execution_count": null,
      "metadata": {
        "id": "WXaVZ-vmIgoS"
      },
      "outputs": [],
      "source": [
        "#Splitting the train set in independent variables (x) and dependent variable (y)\n",
        "y= df_train.label\n",
        "x = df_train.drop('label', axis =1)\n",
        "\n"
      ]
    },
    {
      "cell_type": "code",
      "source": [
        "x.head()"
      ],
      "metadata": {
        "colab": {
          "base_uri": "https://localhost:8080/",
          "height": 300
        },
        "id": "A56blvwTT8Ke",
        "outputId": "d2de1e4d-9fdc-41b6-865e-62fbd4d3a832"
      },
      "execution_count": null,
      "outputs": [
        {
          "output_type": "execute_result",
          "data": {
            "text/plain": [
              "   index  ccs  bcced  salutations  designation  label_0  label_1  label_2  \\\n",
              "0      0    0      0            0            0        0        0        0   \n",
              "1      1    0      0            0            0        1        0        0   \n",
              "2      2    0      0            0            0        1        0        0   \n",
              "3      3    0      0            0            0        0        0        0   \n",
              "4      4    1      0            0            0        0        0        0   \n",
              "\n",
              "   label_3  label_4  ...  Promotions_tld  Forums_tld  Purchases_tld  \\\n",
              "0        0        0  ...        0.474490    0.000000       0.000000   \n",
              "1        0        0  ...        0.052239    0.000000       0.000000   \n",
              "2        0        0  ...        0.104625    0.037812       0.001704   \n",
              "3        0        0  ...        0.068056    0.187500       0.000000   \n",
              "4        1        0  ...        0.104625    0.037812       0.001704   \n",
              "\n",
              "   Travel_tld  Spam_tld  Social_tld  academic  government  elearning  \\\n",
              "0    0.000000    0.0000     0.00000         0           0          0   \n",
              "1    0.000000    0.0000     0.00000         0           0          0   \n",
              "2    0.001473    0.0013     0.12834         0           0          0   \n",
              "3    0.000000    0.0000     0.00000         0           0          0   \n",
              "4    0.001473    0.0013     0.12834         0           0          0   \n",
              "\n",
              "   traveling  \n",
              "0          0  \n",
              "1          0  \n",
              "2          0  \n",
              "3          0  \n",
              "4          0  \n",
              "\n",
              "[5 rows x 56 columns]"
            ],
            "text/html": [
              "\n",
              "  <div id=\"df-aa266c29-f66b-4238-b792-d43d3f9b7cba\">\n",
              "    <div class=\"colab-df-container\">\n",
              "      <div>\n",
              "<style scoped>\n",
              "    .dataframe tbody tr th:only-of-type {\n",
              "        vertical-align: middle;\n",
              "    }\n",
              "\n",
              "    .dataframe tbody tr th {\n",
              "        vertical-align: top;\n",
              "    }\n",
              "\n",
              "    .dataframe thead th {\n",
              "        text-align: right;\n",
              "    }\n",
              "</style>\n",
              "<table border=\"1\" class=\"dataframe\">\n",
              "  <thead>\n",
              "    <tr style=\"text-align: right;\">\n",
              "      <th></th>\n",
              "      <th>index</th>\n",
              "      <th>ccs</th>\n",
              "      <th>bcced</th>\n",
              "      <th>salutations</th>\n",
              "      <th>designation</th>\n",
              "      <th>label_0</th>\n",
              "      <th>label_1</th>\n",
              "      <th>label_2</th>\n",
              "      <th>label_3</th>\n",
              "      <th>label_4</th>\n",
              "      <th>...</th>\n",
              "      <th>Promotions_tld</th>\n",
              "      <th>Forums_tld</th>\n",
              "      <th>Purchases_tld</th>\n",
              "      <th>Travel_tld</th>\n",
              "      <th>Spam_tld</th>\n",
              "      <th>Social_tld</th>\n",
              "      <th>academic</th>\n",
              "      <th>government</th>\n",
              "      <th>elearning</th>\n",
              "      <th>traveling</th>\n",
              "    </tr>\n",
              "  </thead>\n",
              "  <tbody>\n",
              "    <tr>\n",
              "      <th>0</th>\n",
              "      <td>0</td>\n",
              "      <td>0</td>\n",
              "      <td>0</td>\n",
              "      <td>0</td>\n",
              "      <td>0</td>\n",
              "      <td>0</td>\n",
              "      <td>0</td>\n",
              "      <td>0</td>\n",
              "      <td>0</td>\n",
              "      <td>0</td>\n",
              "      <td>...</td>\n",
              "      <td>0.474490</td>\n",
              "      <td>0.000000</td>\n",
              "      <td>0.000000</td>\n",
              "      <td>0.000000</td>\n",
              "      <td>0.0000</td>\n",
              "      <td>0.00000</td>\n",
              "      <td>0</td>\n",
              "      <td>0</td>\n",
              "      <td>0</td>\n",
              "      <td>0</td>\n",
              "    </tr>\n",
              "    <tr>\n",
              "      <th>1</th>\n",
              "      <td>1</td>\n",
              "      <td>0</td>\n",
              "      <td>0</td>\n",
              "      <td>0</td>\n",
              "      <td>0</td>\n",
              "      <td>1</td>\n",
              "      <td>0</td>\n",
              "      <td>0</td>\n",
              "      <td>0</td>\n",
              "      <td>0</td>\n",
              "      <td>...</td>\n",
              "      <td>0.052239</td>\n",
              "      <td>0.000000</td>\n",
              "      <td>0.000000</td>\n",
              "      <td>0.000000</td>\n",
              "      <td>0.0000</td>\n",
              "      <td>0.00000</td>\n",
              "      <td>0</td>\n",
              "      <td>0</td>\n",
              "      <td>0</td>\n",
              "      <td>0</td>\n",
              "    </tr>\n",
              "    <tr>\n",
              "      <th>2</th>\n",
              "      <td>2</td>\n",
              "      <td>0</td>\n",
              "      <td>0</td>\n",
              "      <td>0</td>\n",
              "      <td>0</td>\n",
              "      <td>1</td>\n",
              "      <td>0</td>\n",
              "      <td>0</td>\n",
              "      <td>0</td>\n",
              "      <td>0</td>\n",
              "      <td>...</td>\n",
              "      <td>0.104625</td>\n",
              "      <td>0.037812</td>\n",
              "      <td>0.001704</td>\n",
              "      <td>0.001473</td>\n",
              "      <td>0.0013</td>\n",
              "      <td>0.12834</td>\n",
              "      <td>0</td>\n",
              "      <td>0</td>\n",
              "      <td>0</td>\n",
              "      <td>0</td>\n",
              "    </tr>\n",
              "    <tr>\n",
              "      <th>3</th>\n",
              "      <td>3</td>\n",
              "      <td>0</td>\n",
              "      <td>0</td>\n",
              "      <td>0</td>\n",
              "      <td>0</td>\n",
              "      <td>0</td>\n",
              "      <td>0</td>\n",
              "      <td>0</td>\n",
              "      <td>0</td>\n",
              "      <td>0</td>\n",
              "      <td>...</td>\n",
              "      <td>0.068056</td>\n",
              "      <td>0.187500</td>\n",
              "      <td>0.000000</td>\n",
              "      <td>0.000000</td>\n",
              "      <td>0.0000</td>\n",
              "      <td>0.00000</td>\n",
              "      <td>0</td>\n",
              "      <td>0</td>\n",
              "      <td>0</td>\n",
              "      <td>0</td>\n",
              "    </tr>\n",
              "    <tr>\n",
              "      <th>4</th>\n",
              "      <td>4</td>\n",
              "      <td>1</td>\n",
              "      <td>0</td>\n",
              "      <td>0</td>\n",
              "      <td>0</td>\n",
              "      <td>0</td>\n",
              "      <td>0</td>\n",
              "      <td>0</td>\n",
              "      <td>1</td>\n",
              "      <td>0</td>\n",
              "      <td>...</td>\n",
              "      <td>0.104625</td>\n",
              "      <td>0.037812</td>\n",
              "      <td>0.001704</td>\n",
              "      <td>0.001473</td>\n",
              "      <td>0.0013</td>\n",
              "      <td>0.12834</td>\n",
              "      <td>0</td>\n",
              "      <td>0</td>\n",
              "      <td>0</td>\n",
              "      <td>0</td>\n",
              "    </tr>\n",
              "  </tbody>\n",
              "</table>\n",
              "<p>5 rows × 56 columns</p>\n",
              "</div>\n",
              "      <button class=\"colab-df-convert\" onclick=\"convertToInteractive('df-aa266c29-f66b-4238-b792-d43d3f9b7cba')\"\n",
              "              title=\"Convert this dataframe to an interactive table.\"\n",
              "              style=\"display:none;\">\n",
              "        \n",
              "  <svg xmlns=\"http://www.w3.org/2000/svg\" height=\"24px\"viewBox=\"0 0 24 24\"\n",
              "       width=\"24px\">\n",
              "    <path d=\"M0 0h24v24H0V0z\" fill=\"none\"/>\n",
              "    <path d=\"M18.56 5.44l.94 2.06.94-2.06 2.06-.94-2.06-.94-.94-2.06-.94 2.06-2.06.94zm-11 1L8.5 8.5l.94-2.06 2.06-.94-2.06-.94L8.5 2.5l-.94 2.06-2.06.94zm10 10l.94 2.06.94-2.06 2.06-.94-2.06-.94-.94-2.06-.94 2.06-2.06.94z\"/><path d=\"M17.41 7.96l-1.37-1.37c-.4-.4-.92-.59-1.43-.59-.52 0-1.04.2-1.43.59L10.3 9.45l-7.72 7.72c-.78.78-.78 2.05 0 2.83L4 21.41c.39.39.9.59 1.41.59.51 0 1.02-.2 1.41-.59l7.78-7.78 2.81-2.81c.8-.78.8-2.07 0-2.86zM5.41 20L4 18.59l7.72-7.72 1.47 1.35L5.41 20z\"/>\n",
              "  </svg>\n",
              "      </button>\n",
              "      \n",
              "  <style>\n",
              "    .colab-df-container {\n",
              "      display:flex;\n",
              "      flex-wrap:wrap;\n",
              "      gap: 12px;\n",
              "    }\n",
              "\n",
              "    .colab-df-convert {\n",
              "      background-color: #E8F0FE;\n",
              "      border: none;\n",
              "      border-radius: 50%;\n",
              "      cursor: pointer;\n",
              "      display: none;\n",
              "      fill: #1967D2;\n",
              "      height: 32px;\n",
              "      padding: 0 0 0 0;\n",
              "      width: 32px;\n",
              "    }\n",
              "\n",
              "    .colab-df-convert:hover {\n",
              "      background-color: #E2EBFA;\n",
              "      box-shadow: 0px 1px 2px rgba(60, 64, 67, 0.3), 0px 1px 3px 1px rgba(60, 64, 67, 0.15);\n",
              "      fill: #174EA6;\n",
              "    }\n",
              "\n",
              "    [theme=dark] .colab-df-convert {\n",
              "      background-color: #3B4455;\n",
              "      fill: #D2E3FC;\n",
              "    }\n",
              "\n",
              "    [theme=dark] .colab-df-convert:hover {\n",
              "      background-color: #434B5C;\n",
              "      box-shadow: 0px 1px 3px 1px rgba(0, 0, 0, 0.15);\n",
              "      filter: drop-shadow(0px 1px 2px rgba(0, 0, 0, 0.3));\n",
              "      fill: #FFFFFF;\n",
              "    }\n",
              "  </style>\n",
              "\n",
              "      <script>\n",
              "        const buttonEl =\n",
              "          document.querySelector('#df-aa266c29-f66b-4238-b792-d43d3f9b7cba button.colab-df-convert');\n",
              "        buttonEl.style.display =\n",
              "          google.colab.kernel.accessAllowed ? 'block' : 'none';\n",
              "\n",
              "        async function convertToInteractive(key) {\n",
              "          const element = document.querySelector('#df-aa266c29-f66b-4238-b792-d43d3f9b7cba');\n",
              "          const dataTable =\n",
              "            await google.colab.kernel.invokeFunction('convertToInteractive',\n",
              "                                                     [key], {});\n",
              "          if (!dataTable) return;\n",
              "\n",
              "          const docLinkHtml = 'Like what you see? Visit the ' +\n",
              "            '<a target=\"_blank\" href=https://colab.research.google.com/notebooks/data_table.ipynb>data table notebook</a>'\n",
              "            + ' to learn more about interactive tables.';\n",
              "          element.innerHTML = '';\n",
              "          dataTable['output_type'] = 'display_data';\n",
              "          await google.colab.output.renderOutput(dataTable, element);\n",
              "          const docLink = document.createElement('div');\n",
              "          docLink.innerHTML = docLinkHtml;\n",
              "          element.appendChild(docLink);\n",
              "        }\n",
              "      </script>\n",
              "    </div>\n",
              "  </div>\n",
              "  "
            ]
          },
          "metadata": {},
          "execution_count": 238
        }
      ]
    },
    {
      "cell_type": "code",
      "execution_count": null,
      "metadata": {
        "id": "3acXRs-PI_zS"
      },
      "outputs": [],
      "source": [
        "from sklearn.model_selection import train_test_split\n",
        "\n",
        "#Splitting the df_train in train and test set, taking 25% of the datapoints being the test set\n",
        "X_train, X_test, y_train, y_test = train_test_split(x, y, test_size=0.25, random_state=2)"
      ]
    },
    {
      "cell_type": "code",
      "source": [
        "X_train.shape"
      ],
      "metadata": {
        "colab": {
          "base_uri": "https://localhost:8080/"
        },
        "id": "5MQLXHkoc-E8",
        "outputId": "6098a1c5-5976-4bb7-f8d5-bca5fa318879"
      },
      "execution_count": null,
      "outputs": [
        {
          "output_type": "execute_result",
          "data": {
            "text/plain": [
              "(60132, 56)"
            ]
          },
          "metadata": {},
          "execution_count": 241
        }
      ]
    },
    {
      "cell_type": "code",
      "execution_count": null,
      "metadata": {
        "colab": {
          "base_uri": "https://localhost:8080/"
        },
        "id": "HvPppxRi2o9O",
        "outputId": "badf7204-63a7-43b7-f9d8-09816460bcfd"
      },
      "outputs": [
        {
          "output_type": "stream",
          "name": "stdout",
          "text": [
            "0.8659948114148872\n"
          ]
        }
      ],
      "source": [
        "from xgboost import XGBClassifier\n",
        "\n",
        "#Running a XGBClassifier on the whole dataset\n",
        "xg = XGBClassifier()\n",
        "xg.fit(X_train, y_train)\n",
        "score = xg.score(X_test, y_test)\n",
        "print(score)"
      ]
    },
    {
      "cell_type": "code",
      "execution_count": null,
      "metadata": {
        "id": "UBlGDFOgTRs0"
      },
      "outputs": [],
      "source": [
        "from numpy import sort\n",
        "\n",
        "#determine the most important features in the model\n",
        "importance = xg.feature_importances_\n",
        "\n",
        "#create dataframe with the features and the related importance\n",
        "d = {'feature':list(df_train)[:-1],'importance':importance}\n",
        "imp = pd.DataFrame(data = d)\n",
        "imp = imp.sort_values(by='importance',ascending = False)\n",
        "t_imp =imp[imp['importance']>0.001]"
      ]
    },
    {
      "cell_type": "code",
      "source": [
        "imp"
      ],
      "metadata": {
        "colab": {
          "base_uri": "https://localhost:8080/",
          "height": 1000
        },
        "id": "GGS9sfPjorkx",
        "outputId": "3bc6cbd9-ad17-4adb-d072-dcd69f6b96a5"
      },
      "execution_count": null,
      "outputs": [
        {
          "output_type": "execute_result",
          "data": {
            "text/plain": [
              "                   feature  importance\n",
              "6                  label_1    0.168927\n",
              "39              Forums_org    0.133695\n",
              "36             Updates_org    0.110912\n",
              "43              Social_org    0.097534\n",
              "38          Promotions_org    0.085750\n",
              "12                 label_7    0.052368\n",
              "7                  label_2    0.047347\n",
              "5                  label_0    0.044835\n",
              "8                  label_3    0.042868\n",
              "37            Personal_org    0.032103\n",
              "32             alternative    0.028580\n",
              "23                    year    0.020153\n",
              "1                      ccs    0.018928\n",
              "18  quantile_chars_subject    0.012125\n",
              "44             Updates_tld    0.008942\n",
              "46          Promotions_tld    0.007186\n",
              "9                  label_4    0.006539\n",
              "51              Social_tld    0.006449\n",
              "40           Purchases_org    0.005549\n",
              "53              government    0.004871\n",
              "13                  no_url    0.004769\n",
              "20          log_image_char    0.004313\n",
              "29                     idm    0.004256\n",
              "25                 weekday    0.004007\n",
              "50                Spam_tld    0.003916\n",
              "42                Spam_org    0.003887\n",
              "3              salutations    0.003827\n",
              "41              Travel_org    0.003681\n",
              "26               multipart    0.003571\n",
              "24                   month    0.003443\n",
              "17           quantile_urls    0.003318\n",
              "4              designation    0.003225\n",
              "16         quantile_images    0.002941\n",
              "22                    hour    0.002217\n",
              "10                 label_5    0.002015\n",
              "48           Purchases_tld    0.002010\n",
              "45            Personal_tld    0.001905\n",
              "15     quantile_chars_body    0.001614\n",
              "11                 label_6    0.001479\n",
              "19             image_heavy    0.001448\n",
              "47              Forums_tld    0.001245\n",
              "31                   plain    0.000860\n",
              "21                     day    0.000214\n",
              "0                    index    0.000175\n",
              "49              Travel_tld    0.000000\n",
              "52                academic    0.000000\n",
              "54               elearning    0.000000\n",
              "28                  signed    0.000000\n",
              "35                   mixed    0.000000\n",
              "34                    html    0.000000\n",
              "33                  report    0.000000\n",
              "30                 related    0.000000\n",
              "27                    text    0.000000\n",
              "14                  no_ccs    0.000000\n",
              "2                    bcced    0.000000\n",
              "55               traveling    0.000000"
            ],
            "text/html": [
              "\n",
              "  <div id=\"df-5ffb5a24-8de2-422f-947c-a0c9e557ffae\">\n",
              "    <div class=\"colab-df-container\">\n",
              "      <div>\n",
              "<style scoped>\n",
              "    .dataframe tbody tr th:only-of-type {\n",
              "        vertical-align: middle;\n",
              "    }\n",
              "\n",
              "    .dataframe tbody tr th {\n",
              "        vertical-align: top;\n",
              "    }\n",
              "\n",
              "    .dataframe thead th {\n",
              "        text-align: right;\n",
              "    }\n",
              "</style>\n",
              "<table border=\"1\" class=\"dataframe\">\n",
              "  <thead>\n",
              "    <tr style=\"text-align: right;\">\n",
              "      <th></th>\n",
              "      <th>feature</th>\n",
              "      <th>importance</th>\n",
              "    </tr>\n",
              "  </thead>\n",
              "  <tbody>\n",
              "    <tr>\n",
              "      <th>6</th>\n",
              "      <td>label_1</td>\n",
              "      <td>0.168927</td>\n",
              "    </tr>\n",
              "    <tr>\n",
              "      <th>39</th>\n",
              "      <td>Forums_org</td>\n",
              "      <td>0.133695</td>\n",
              "    </tr>\n",
              "    <tr>\n",
              "      <th>36</th>\n",
              "      <td>Updates_org</td>\n",
              "      <td>0.110912</td>\n",
              "    </tr>\n",
              "    <tr>\n",
              "      <th>43</th>\n",
              "      <td>Social_org</td>\n",
              "      <td>0.097534</td>\n",
              "    </tr>\n",
              "    <tr>\n",
              "      <th>38</th>\n",
              "      <td>Promotions_org</td>\n",
              "      <td>0.085750</td>\n",
              "    </tr>\n",
              "    <tr>\n",
              "      <th>12</th>\n",
              "      <td>label_7</td>\n",
              "      <td>0.052368</td>\n",
              "    </tr>\n",
              "    <tr>\n",
              "      <th>7</th>\n",
              "      <td>label_2</td>\n",
              "      <td>0.047347</td>\n",
              "    </tr>\n",
              "    <tr>\n",
              "      <th>5</th>\n",
              "      <td>label_0</td>\n",
              "      <td>0.044835</td>\n",
              "    </tr>\n",
              "    <tr>\n",
              "      <th>8</th>\n",
              "      <td>label_3</td>\n",
              "      <td>0.042868</td>\n",
              "    </tr>\n",
              "    <tr>\n",
              "      <th>37</th>\n",
              "      <td>Personal_org</td>\n",
              "      <td>0.032103</td>\n",
              "    </tr>\n",
              "    <tr>\n",
              "      <th>32</th>\n",
              "      <td>alternative</td>\n",
              "      <td>0.028580</td>\n",
              "    </tr>\n",
              "    <tr>\n",
              "      <th>23</th>\n",
              "      <td>year</td>\n",
              "      <td>0.020153</td>\n",
              "    </tr>\n",
              "    <tr>\n",
              "      <th>1</th>\n",
              "      <td>ccs</td>\n",
              "      <td>0.018928</td>\n",
              "    </tr>\n",
              "    <tr>\n",
              "      <th>18</th>\n",
              "      <td>quantile_chars_subject</td>\n",
              "      <td>0.012125</td>\n",
              "    </tr>\n",
              "    <tr>\n",
              "      <th>44</th>\n",
              "      <td>Updates_tld</td>\n",
              "      <td>0.008942</td>\n",
              "    </tr>\n",
              "    <tr>\n",
              "      <th>46</th>\n",
              "      <td>Promotions_tld</td>\n",
              "      <td>0.007186</td>\n",
              "    </tr>\n",
              "    <tr>\n",
              "      <th>9</th>\n",
              "      <td>label_4</td>\n",
              "      <td>0.006539</td>\n",
              "    </tr>\n",
              "    <tr>\n",
              "      <th>51</th>\n",
              "      <td>Social_tld</td>\n",
              "      <td>0.006449</td>\n",
              "    </tr>\n",
              "    <tr>\n",
              "      <th>40</th>\n",
              "      <td>Purchases_org</td>\n",
              "      <td>0.005549</td>\n",
              "    </tr>\n",
              "    <tr>\n",
              "      <th>53</th>\n",
              "      <td>government</td>\n",
              "      <td>0.004871</td>\n",
              "    </tr>\n",
              "    <tr>\n",
              "      <th>13</th>\n",
              "      <td>no_url</td>\n",
              "      <td>0.004769</td>\n",
              "    </tr>\n",
              "    <tr>\n",
              "      <th>20</th>\n",
              "      <td>log_image_char</td>\n",
              "      <td>0.004313</td>\n",
              "    </tr>\n",
              "    <tr>\n",
              "      <th>29</th>\n",
              "      <td>idm</td>\n",
              "      <td>0.004256</td>\n",
              "    </tr>\n",
              "    <tr>\n",
              "      <th>25</th>\n",
              "      <td>weekday</td>\n",
              "      <td>0.004007</td>\n",
              "    </tr>\n",
              "    <tr>\n",
              "      <th>50</th>\n",
              "      <td>Spam_tld</td>\n",
              "      <td>0.003916</td>\n",
              "    </tr>\n",
              "    <tr>\n",
              "      <th>42</th>\n",
              "      <td>Spam_org</td>\n",
              "      <td>0.003887</td>\n",
              "    </tr>\n",
              "    <tr>\n",
              "      <th>3</th>\n",
              "      <td>salutations</td>\n",
              "      <td>0.003827</td>\n",
              "    </tr>\n",
              "    <tr>\n",
              "      <th>41</th>\n",
              "      <td>Travel_org</td>\n",
              "      <td>0.003681</td>\n",
              "    </tr>\n",
              "    <tr>\n",
              "      <th>26</th>\n",
              "      <td>multipart</td>\n",
              "      <td>0.003571</td>\n",
              "    </tr>\n",
              "    <tr>\n",
              "      <th>24</th>\n",
              "      <td>month</td>\n",
              "      <td>0.003443</td>\n",
              "    </tr>\n",
              "    <tr>\n",
              "      <th>17</th>\n",
              "      <td>quantile_urls</td>\n",
              "      <td>0.003318</td>\n",
              "    </tr>\n",
              "    <tr>\n",
              "      <th>4</th>\n",
              "      <td>designation</td>\n",
              "      <td>0.003225</td>\n",
              "    </tr>\n",
              "    <tr>\n",
              "      <th>16</th>\n",
              "      <td>quantile_images</td>\n",
              "      <td>0.002941</td>\n",
              "    </tr>\n",
              "    <tr>\n",
              "      <th>22</th>\n",
              "      <td>hour</td>\n",
              "      <td>0.002217</td>\n",
              "    </tr>\n",
              "    <tr>\n",
              "      <th>10</th>\n",
              "      <td>label_5</td>\n",
              "      <td>0.002015</td>\n",
              "    </tr>\n",
              "    <tr>\n",
              "      <th>48</th>\n",
              "      <td>Purchases_tld</td>\n",
              "      <td>0.002010</td>\n",
              "    </tr>\n",
              "    <tr>\n",
              "      <th>45</th>\n",
              "      <td>Personal_tld</td>\n",
              "      <td>0.001905</td>\n",
              "    </tr>\n",
              "    <tr>\n",
              "      <th>15</th>\n",
              "      <td>quantile_chars_body</td>\n",
              "      <td>0.001614</td>\n",
              "    </tr>\n",
              "    <tr>\n",
              "      <th>11</th>\n",
              "      <td>label_6</td>\n",
              "      <td>0.001479</td>\n",
              "    </tr>\n",
              "    <tr>\n",
              "      <th>19</th>\n",
              "      <td>image_heavy</td>\n",
              "      <td>0.001448</td>\n",
              "    </tr>\n",
              "    <tr>\n",
              "      <th>47</th>\n",
              "      <td>Forums_tld</td>\n",
              "      <td>0.001245</td>\n",
              "    </tr>\n",
              "    <tr>\n",
              "      <th>31</th>\n",
              "      <td>plain</td>\n",
              "      <td>0.000860</td>\n",
              "    </tr>\n",
              "    <tr>\n",
              "      <th>21</th>\n",
              "      <td>day</td>\n",
              "      <td>0.000214</td>\n",
              "    </tr>\n",
              "    <tr>\n",
              "      <th>0</th>\n",
              "      <td>index</td>\n",
              "      <td>0.000175</td>\n",
              "    </tr>\n",
              "    <tr>\n",
              "      <th>49</th>\n",
              "      <td>Travel_tld</td>\n",
              "      <td>0.000000</td>\n",
              "    </tr>\n",
              "    <tr>\n",
              "      <th>52</th>\n",
              "      <td>academic</td>\n",
              "      <td>0.000000</td>\n",
              "    </tr>\n",
              "    <tr>\n",
              "      <th>54</th>\n",
              "      <td>elearning</td>\n",
              "      <td>0.000000</td>\n",
              "    </tr>\n",
              "    <tr>\n",
              "      <th>28</th>\n",
              "      <td>signed</td>\n",
              "      <td>0.000000</td>\n",
              "    </tr>\n",
              "    <tr>\n",
              "      <th>35</th>\n",
              "      <td>mixed</td>\n",
              "      <td>0.000000</td>\n",
              "    </tr>\n",
              "    <tr>\n",
              "      <th>34</th>\n",
              "      <td>html</td>\n",
              "      <td>0.000000</td>\n",
              "    </tr>\n",
              "    <tr>\n",
              "      <th>33</th>\n",
              "      <td>report</td>\n",
              "      <td>0.000000</td>\n",
              "    </tr>\n",
              "    <tr>\n",
              "      <th>30</th>\n",
              "      <td>related</td>\n",
              "      <td>0.000000</td>\n",
              "    </tr>\n",
              "    <tr>\n",
              "      <th>27</th>\n",
              "      <td>text</td>\n",
              "      <td>0.000000</td>\n",
              "    </tr>\n",
              "    <tr>\n",
              "      <th>14</th>\n",
              "      <td>no_ccs</td>\n",
              "      <td>0.000000</td>\n",
              "    </tr>\n",
              "    <tr>\n",
              "      <th>2</th>\n",
              "      <td>bcced</td>\n",
              "      <td>0.000000</td>\n",
              "    </tr>\n",
              "    <tr>\n",
              "      <th>55</th>\n",
              "      <td>traveling</td>\n",
              "      <td>0.000000</td>\n",
              "    </tr>\n",
              "  </tbody>\n",
              "</table>\n",
              "</div>\n",
              "      <button class=\"colab-df-convert\" onclick=\"convertToInteractive('df-5ffb5a24-8de2-422f-947c-a0c9e557ffae')\"\n",
              "              title=\"Convert this dataframe to an interactive table.\"\n",
              "              style=\"display:none;\">\n",
              "        \n",
              "  <svg xmlns=\"http://www.w3.org/2000/svg\" height=\"24px\"viewBox=\"0 0 24 24\"\n",
              "       width=\"24px\">\n",
              "    <path d=\"M0 0h24v24H0V0z\" fill=\"none\"/>\n",
              "    <path d=\"M18.56 5.44l.94 2.06.94-2.06 2.06-.94-2.06-.94-.94-2.06-.94 2.06-2.06.94zm-11 1L8.5 8.5l.94-2.06 2.06-.94-2.06-.94L8.5 2.5l-.94 2.06-2.06.94zm10 10l.94 2.06.94-2.06 2.06-.94-2.06-.94-.94-2.06-.94 2.06-2.06.94z\"/><path d=\"M17.41 7.96l-1.37-1.37c-.4-.4-.92-.59-1.43-.59-.52 0-1.04.2-1.43.59L10.3 9.45l-7.72 7.72c-.78.78-.78 2.05 0 2.83L4 21.41c.39.39.9.59 1.41.59.51 0 1.02-.2 1.41-.59l7.78-7.78 2.81-2.81c.8-.78.8-2.07 0-2.86zM5.41 20L4 18.59l7.72-7.72 1.47 1.35L5.41 20z\"/>\n",
              "  </svg>\n",
              "      </button>\n",
              "      \n",
              "  <style>\n",
              "    .colab-df-container {\n",
              "      display:flex;\n",
              "      flex-wrap:wrap;\n",
              "      gap: 12px;\n",
              "    }\n",
              "\n",
              "    .colab-df-convert {\n",
              "      background-color: #E8F0FE;\n",
              "      border: none;\n",
              "      border-radius: 50%;\n",
              "      cursor: pointer;\n",
              "      display: none;\n",
              "      fill: #1967D2;\n",
              "      height: 32px;\n",
              "      padding: 0 0 0 0;\n",
              "      width: 32px;\n",
              "    }\n",
              "\n",
              "    .colab-df-convert:hover {\n",
              "      background-color: #E2EBFA;\n",
              "      box-shadow: 0px 1px 2px rgba(60, 64, 67, 0.3), 0px 1px 3px 1px rgba(60, 64, 67, 0.15);\n",
              "      fill: #174EA6;\n",
              "    }\n",
              "\n",
              "    [theme=dark] .colab-df-convert {\n",
              "      background-color: #3B4455;\n",
              "      fill: #D2E3FC;\n",
              "    }\n",
              "\n",
              "    [theme=dark] .colab-df-convert:hover {\n",
              "      background-color: #434B5C;\n",
              "      box-shadow: 0px 1px 3px 1px rgba(0, 0, 0, 0.15);\n",
              "      filter: drop-shadow(0px 1px 2px rgba(0, 0, 0, 0.3));\n",
              "      fill: #FFFFFF;\n",
              "    }\n",
              "  </style>\n",
              "\n",
              "      <script>\n",
              "        const buttonEl =\n",
              "          document.querySelector('#df-5ffb5a24-8de2-422f-947c-a0c9e557ffae button.colab-df-convert');\n",
              "        buttonEl.style.display =\n",
              "          google.colab.kernel.accessAllowed ? 'block' : 'none';\n",
              "\n",
              "        async function convertToInteractive(key) {\n",
              "          const element = document.querySelector('#df-5ffb5a24-8de2-422f-947c-a0c9e557ffae');\n",
              "          const dataTable =\n",
              "            await google.colab.kernel.invokeFunction('convertToInteractive',\n",
              "                                                     [key], {});\n",
              "          if (!dataTable) return;\n",
              "\n",
              "          const docLinkHtml = 'Like what you see? Visit the ' +\n",
              "            '<a target=\"_blank\" href=https://colab.research.google.com/notebooks/data_table.ipynb>data table notebook</a>'\n",
              "            + ' to learn more about interactive tables.';\n",
              "          element.innerHTML = '';\n",
              "          dataTable['output_type'] = 'display_data';\n",
              "          await google.colab.output.renderOutput(dataTable, element);\n",
              "          const docLink = document.createElement('div');\n",
              "          docLink.innerHTML = docLinkHtml;\n",
              "          element.appendChild(docLink);\n",
              "        }\n",
              "      </script>\n",
              "    </div>\n",
              "  </div>\n",
              "  "
            ]
          },
          "metadata": {},
          "execution_count": 250
        }
      ]
    },
    {
      "cell_type": "code",
      "source": [
        "#creating a list of all the most relevant features\n",
        "top_feature = t_imp.feature.unique().tolist()"
      ],
      "metadata": {
        "id": "bPAK3CjtcFXU"
      },
      "execution_count": null,
      "outputs": []
    },
    {
      "cell_type": "code",
      "source": [
        "#taking a subset of the training set with only the most relevant features\n",
        "x_top_feat = df_train[top_feature]\n"
      ],
      "metadata": {
        "id": "03Vw4lq5keAC"
      },
      "execution_count": null,
      "outputs": []
    },
    {
      "cell_type": "markdown",
      "source": [
        "#**MODEL IMPLEMENTATION**"
      ],
      "metadata": {
        "id": "VXmTsE7YwZ9_"
      }
    },
    {
      "cell_type": "code",
      "execution_count": null,
      "metadata": {
        "id": "qV8bnKIpTRs1"
      },
      "outputs": [],
      "source": [
        "#Running the XGBClassifier on the restricted dataset\n",
        "X_train, X_test, y_train, y_test = train_test_split(x_top_feat, y, test_size=0.25, random_state=2)\n",
        "\n",
        "xg_top  = XGBClassifier()\n",
        "\n",
        "xg_top.fit(X_train, y_train)\n",
        "score = xg_top.score(X_test, y_test)"
      ]
    },
    {
      "cell_type": "code",
      "source": [
        "score"
      ],
      "metadata": {
        "colab": {
          "base_uri": "https://localhost:8080/"
        },
        "id": "IISt3MvOm88F",
        "outputId": "70a85147-ce2c-4e2a-ca7c-3923b867088f"
      },
      "execution_count": null,
      "outputs": [
        {
          "output_type": "execute_result",
          "data": {
            "text/plain": [
              "0.8652963480343245"
            ]
          },
          "metadata": {},
          "execution_count": 254
        }
      ]
    },
    {
      "cell_type": "code",
      "source": [
        "# Obtaining average performance of the model by using repeated classified k fold cross-validation, with three repeats and 10 folds.\n",
        "from numpy import mean\n",
        "from numpy import std\n",
        "from sklearn.model_selection import cross_val_score\n",
        "from sklearn.model_selection import RepeatedStratifiedKFold\n",
        "\n",
        "cv = RepeatedStratifiedKFold(n_splits=10, n_repeats=3, random_state=1)\n",
        "n_scores = cross_val_score(xg_top, x_top_feat, y, scoring='accuracy', cv=cv, n_jobs=-1, error_score='raise')\n",
        "# report performance\n",
        "print('Accuracy: %.3f (%.3f)' % (mean(n_scores), std(n_scores)))"
      ],
      "metadata": {
        "id": "pmC-6xxAMcY3"
      },
      "execution_count": null,
      "outputs": []
    },
    {
      "cell_type": "markdown",
      "metadata": {
        "id": "rJrHsDqzTRs1"
      },
      "source": [
        "## CV to determine best params"
      ]
    },
    {
      "cell_type": "code",
      "execution_count": null,
      "metadata": {
        "colab": {
          "base_uri": "https://localhost:8080/",
          "height": 110
        },
        "id": "sOJvJm3-TRs1",
        "outputId": "a6a4ddf7-73f9-43f9-9baa-f520bea50fd2"
      },
      "outputs": [
        {
          "output_type": "stream",
          "name": "stdout",
          "text": [
            "Fitting 5 folds for each of 5 candidates, totalling 25 fits\n"
          ]
        },
        {
          "output_type": "execute_result",
          "data": {
            "text/plain": [
              "XGBClassifier(colsample_bytree=0.5, gamma=0.2, learning_rate=0.05, max_depth=10,\n",
              "              min_child_weight=3, objective='multi:softprob')"
            ],
            "text/html": [
              "<style>#sk-container-id-3 {color: black;background-color: white;}#sk-container-id-3 pre{padding: 0;}#sk-container-id-3 div.sk-toggleable {background-color: white;}#sk-container-id-3 label.sk-toggleable__label {cursor: pointer;display: block;width: 100%;margin-bottom: 0;padding: 0.3em;box-sizing: border-box;text-align: center;}#sk-container-id-3 label.sk-toggleable__label-arrow:before {content: \"▸\";float: left;margin-right: 0.25em;color: #696969;}#sk-container-id-3 label.sk-toggleable__label-arrow:hover:before {color: black;}#sk-container-id-3 div.sk-estimator:hover label.sk-toggleable__label-arrow:before {color: black;}#sk-container-id-3 div.sk-toggleable__content {max-height: 0;max-width: 0;overflow: hidden;text-align: left;background-color: #f0f8ff;}#sk-container-id-3 div.sk-toggleable__content pre {margin: 0.2em;color: black;border-radius: 0.25em;background-color: #f0f8ff;}#sk-container-id-3 input.sk-toggleable__control:checked~div.sk-toggleable__content {max-height: 200px;max-width: 100%;overflow: auto;}#sk-container-id-3 input.sk-toggleable__control:checked~label.sk-toggleable__label-arrow:before {content: \"▾\";}#sk-container-id-3 div.sk-estimator input.sk-toggleable__control:checked~label.sk-toggleable__label {background-color: #d4ebff;}#sk-container-id-3 div.sk-label input.sk-toggleable__control:checked~label.sk-toggleable__label {background-color: #d4ebff;}#sk-container-id-3 input.sk-hidden--visually {border: 0;clip: rect(1px 1px 1px 1px);clip: rect(1px, 1px, 1px, 1px);height: 1px;margin: -1px;overflow: hidden;padding: 0;position: absolute;width: 1px;}#sk-container-id-3 div.sk-estimator {font-family: monospace;background-color: #f0f8ff;border: 1px dotted black;border-radius: 0.25em;box-sizing: border-box;margin-bottom: 0.5em;}#sk-container-id-3 div.sk-estimator:hover {background-color: #d4ebff;}#sk-container-id-3 div.sk-parallel-item::after {content: \"\";width: 100%;border-bottom: 1px solid gray;flex-grow: 1;}#sk-container-id-3 div.sk-label:hover label.sk-toggleable__label {background-color: #d4ebff;}#sk-container-id-3 div.sk-serial::before {content: \"\";position: absolute;border-left: 1px solid gray;box-sizing: border-box;top: 0;bottom: 0;left: 50%;z-index: 0;}#sk-container-id-3 div.sk-serial {display: flex;flex-direction: column;align-items: center;background-color: white;padding-right: 0.2em;padding-left: 0.2em;position: relative;}#sk-container-id-3 div.sk-item {position: relative;z-index: 1;}#sk-container-id-3 div.sk-parallel {display: flex;align-items: stretch;justify-content: center;background-color: white;position: relative;}#sk-container-id-3 div.sk-item::before, #sk-container-id-3 div.sk-parallel-item::before {content: \"\";position: absolute;border-left: 1px solid gray;box-sizing: border-box;top: 0;bottom: 0;left: 50%;z-index: -1;}#sk-container-id-3 div.sk-parallel-item {display: flex;flex-direction: column;z-index: 1;position: relative;background-color: white;}#sk-container-id-3 div.sk-parallel-item:first-child::after {align-self: flex-end;width: 50%;}#sk-container-id-3 div.sk-parallel-item:last-child::after {align-self: flex-start;width: 50%;}#sk-container-id-3 div.sk-parallel-item:only-child::after {width: 0;}#sk-container-id-3 div.sk-dashed-wrapped {border: 1px dashed gray;margin: 0 0.4em 0.5em 0.4em;box-sizing: border-box;padding-bottom: 0.4em;background-color: white;}#sk-container-id-3 div.sk-label label {font-family: monospace;font-weight: bold;display: inline-block;line-height: 1.2em;}#sk-container-id-3 div.sk-label-container {text-align: center;}#sk-container-id-3 div.sk-container {/* jupyter's `normalize.less` sets `[hidden] { display: none; }` but bootstrap.min.css set `[hidden] { display: none !important; }` so we also need the `!important` here to be able to override the default hidden behavior on the sphinx rendered scikit-learn.org. See: https://github.com/scikit-learn/scikit-learn/issues/21755 */display: inline-block !important;position: relative;}#sk-container-id-3 div.sk-text-repr-fallback {display: none;}</style><div id=\"sk-container-id-3\" class=\"sk-top-container\"><div class=\"sk-text-repr-fallback\"><pre>XGBClassifier(colsample_bytree=0.5, gamma=0.2, learning_rate=0.05, max_depth=10,\n",
              "              min_child_weight=3, objective=&#x27;multi:softprob&#x27;)</pre><b>In a Jupyter environment, please rerun this cell to show the HTML representation or trust the notebook. <br />On GitHub, the HTML representation is unable to render, please try loading this page with nbviewer.org.</b></div><div class=\"sk-container\" hidden><div class=\"sk-item\"><div class=\"sk-estimator sk-toggleable\"><input class=\"sk-toggleable__control sk-hidden--visually\" id=\"sk-estimator-id-3\" type=\"checkbox\" checked><label for=\"sk-estimator-id-3\" class=\"sk-toggleable__label sk-toggleable__label-arrow\">XGBClassifier</label><div class=\"sk-toggleable__content\"><pre>XGBClassifier(colsample_bytree=0.5, gamma=0.2, learning_rate=0.05, max_depth=10,\n",
              "              min_child_weight=3, objective=&#x27;multi:softprob&#x27;)</pre></div></div></div></div></div>"
            ]
          },
          "metadata": {},
          "execution_count": 255
        }
      ],
      "source": [
        "from xgboost import XGBClassifier\n",
        "from sklearn.model_selection import RandomizedSearchCV\n",
        "\n",
        "#apply the xgb classifier to the restricted set with cross validation to determine the best performing parameters\n",
        "xg  = XGBClassifier()\n",
        "\n",
        "params = {\n",
        " 'learning_rate' : [0.05,0.10,0.15,0.20,0.25,0.30],\n",
        " 'max_depth' : [ 3, 4, 5, 6, 8, 10, 12, 15],\n",
        " 'min_child_weight' : [ 1, 3, 5, 7 ],\n",
        " 'gamma': [ 0.0, 0.1, 0.2 , 0.3, 0.4 ],\n",
        " 'colsample_bytree' : [ 0.3, 0.4, 0.5 , 0.7 ]\n",
        "}\n",
        "\n",
        "rs_model=RandomizedSearchCV(xg,param_distributions=params,n_iter=5,n_jobs=-1,cv=5,verbose=3)\n",
        "rs_model.fit(X_train, y_train)\n",
        "rs_model.best_estimator_"
      ]
    },
    {
      "cell_type": "code",
      "execution_count": null,
      "metadata": {
        "colab": {
          "base_uri": "https://localhost:8080/",
          "height": 92
        },
        "id": "s178z_VzTRs2",
        "outputId": "e0d7d554-a0fd-4f95-ab35-45740317e6cc"
      },
      "outputs": [
        {
          "output_type": "execute_result",
          "data": {
            "text/plain": [
              "XGBClassifier(colsample_bytree=0.5, gamma=0.2, learning_rate=0.05, max_depth=10,\n",
              "              min_child_weight=3, objective='multi:softprob')"
            ],
            "text/html": [
              "<style>#sk-container-id-4 {color: black;background-color: white;}#sk-container-id-4 pre{padding: 0;}#sk-container-id-4 div.sk-toggleable {background-color: white;}#sk-container-id-4 label.sk-toggleable__label {cursor: pointer;display: block;width: 100%;margin-bottom: 0;padding: 0.3em;box-sizing: border-box;text-align: center;}#sk-container-id-4 label.sk-toggleable__label-arrow:before {content: \"▸\";float: left;margin-right: 0.25em;color: #696969;}#sk-container-id-4 label.sk-toggleable__label-arrow:hover:before {color: black;}#sk-container-id-4 div.sk-estimator:hover label.sk-toggleable__label-arrow:before {color: black;}#sk-container-id-4 div.sk-toggleable__content {max-height: 0;max-width: 0;overflow: hidden;text-align: left;background-color: #f0f8ff;}#sk-container-id-4 div.sk-toggleable__content pre {margin: 0.2em;color: black;border-radius: 0.25em;background-color: #f0f8ff;}#sk-container-id-4 input.sk-toggleable__control:checked~div.sk-toggleable__content {max-height: 200px;max-width: 100%;overflow: auto;}#sk-container-id-4 input.sk-toggleable__control:checked~label.sk-toggleable__label-arrow:before {content: \"▾\";}#sk-container-id-4 div.sk-estimator input.sk-toggleable__control:checked~label.sk-toggleable__label {background-color: #d4ebff;}#sk-container-id-4 div.sk-label input.sk-toggleable__control:checked~label.sk-toggleable__label {background-color: #d4ebff;}#sk-container-id-4 input.sk-hidden--visually {border: 0;clip: rect(1px 1px 1px 1px);clip: rect(1px, 1px, 1px, 1px);height: 1px;margin: -1px;overflow: hidden;padding: 0;position: absolute;width: 1px;}#sk-container-id-4 div.sk-estimator {font-family: monospace;background-color: #f0f8ff;border: 1px dotted black;border-radius: 0.25em;box-sizing: border-box;margin-bottom: 0.5em;}#sk-container-id-4 div.sk-estimator:hover {background-color: #d4ebff;}#sk-container-id-4 div.sk-parallel-item::after {content: \"\";width: 100%;border-bottom: 1px solid gray;flex-grow: 1;}#sk-container-id-4 div.sk-label:hover label.sk-toggleable__label {background-color: #d4ebff;}#sk-container-id-4 div.sk-serial::before {content: \"\";position: absolute;border-left: 1px solid gray;box-sizing: border-box;top: 0;bottom: 0;left: 50%;z-index: 0;}#sk-container-id-4 div.sk-serial {display: flex;flex-direction: column;align-items: center;background-color: white;padding-right: 0.2em;padding-left: 0.2em;position: relative;}#sk-container-id-4 div.sk-item {position: relative;z-index: 1;}#sk-container-id-4 div.sk-parallel {display: flex;align-items: stretch;justify-content: center;background-color: white;position: relative;}#sk-container-id-4 div.sk-item::before, #sk-container-id-4 div.sk-parallel-item::before {content: \"\";position: absolute;border-left: 1px solid gray;box-sizing: border-box;top: 0;bottom: 0;left: 50%;z-index: -1;}#sk-container-id-4 div.sk-parallel-item {display: flex;flex-direction: column;z-index: 1;position: relative;background-color: white;}#sk-container-id-4 div.sk-parallel-item:first-child::after {align-self: flex-end;width: 50%;}#sk-container-id-4 div.sk-parallel-item:last-child::after {align-self: flex-start;width: 50%;}#sk-container-id-4 div.sk-parallel-item:only-child::after {width: 0;}#sk-container-id-4 div.sk-dashed-wrapped {border: 1px dashed gray;margin: 0 0.4em 0.5em 0.4em;box-sizing: border-box;padding-bottom: 0.4em;background-color: white;}#sk-container-id-4 div.sk-label label {font-family: monospace;font-weight: bold;display: inline-block;line-height: 1.2em;}#sk-container-id-4 div.sk-label-container {text-align: center;}#sk-container-id-4 div.sk-container {/* jupyter's `normalize.less` sets `[hidden] { display: none; }` but bootstrap.min.css set `[hidden] { display: none !important; }` so we also need the `!important` here to be able to override the default hidden behavior on the sphinx rendered scikit-learn.org. See: https://github.com/scikit-learn/scikit-learn/issues/21755 */display: inline-block !important;position: relative;}#sk-container-id-4 div.sk-text-repr-fallback {display: none;}</style><div id=\"sk-container-id-4\" class=\"sk-top-container\"><div class=\"sk-text-repr-fallback\"><pre>XGBClassifier(colsample_bytree=0.5, gamma=0.2, learning_rate=0.05, max_depth=10,\n",
              "              min_child_weight=3, objective=&#x27;multi:softprob&#x27;)</pre><b>In a Jupyter environment, please rerun this cell to show the HTML representation or trust the notebook. <br />On GitHub, the HTML representation is unable to render, please try loading this page with nbviewer.org.</b></div><div class=\"sk-container\" hidden><div class=\"sk-item\"><div class=\"sk-estimator sk-toggleable\"><input class=\"sk-toggleable__control sk-hidden--visually\" id=\"sk-estimator-id-4\" type=\"checkbox\" checked><label for=\"sk-estimator-id-4\" class=\"sk-toggleable__label sk-toggleable__label-arrow\">XGBClassifier</label><div class=\"sk-toggleable__content\"><pre>XGBClassifier(colsample_bytree=0.5, gamma=0.2, learning_rate=0.05, max_depth=10,\n",
              "              min_child_weight=3, objective=&#x27;multi:softprob&#x27;)</pre></div></div></div></div></div>"
            ]
          },
          "metadata": {},
          "execution_count": 256
        }
      ],
      "source": [
        "#using the results from the CV to update the model with the best performing parameters\n",
        "xg_cv = rs_model.best_estimator_\n",
        "xg_cv.fit(X_train, y_train)"
      ]
    },
    {
      "cell_type": "code",
      "execution_count": null,
      "metadata": {
        "colab": {
          "base_uri": "https://localhost:8080/"
        },
        "id": "1QdXX8KQTRs2",
        "outputId": "ac8434dd-0a0c-48cd-ed68-d2ba4cdbdb48"
      },
      "outputs": [
        {
          "output_type": "stream",
          "name": "stdout",
          "text": [
            "0.8877469566952704\n"
          ]
        }
      ],
      "source": [
        "score2 = xg_cv.score(X_test, y_test)\n",
        "print(score2)"
      ]
    },
    {
      "cell_type": "code",
      "source": [
        "# Obtaining average performance of the model by using repeated classified k fold cross-validation, with three repeats and 10 folds.\n",
        "from numpy import mean\n",
        "from numpy import std\n",
        "from sklearn.model_selection import cross_val_score\n",
        "from sklearn.model_selection import RepeatedStratifiedKFold\n",
        "\n",
        "cv = RepeatedStratifiedKFold(n_splits=10, n_repeats=3, random_state=1)\n",
        "n_scores = cross_val_score(xg_cv, x, y, scoring='accuracy', cv=cv, n_jobs=-1, error_score='raise')\n",
        "# report performance\n",
        "print('Accuracy: %.3f (%.3f)' % (mean(n_scores), std(n_scores)))"
      ],
      "metadata": {
        "id": "a0MlpJQLMeo5"
      },
      "execution_count": null,
      "outputs": []
    },
    {
      "cell_type": "markdown",
      "metadata": {
        "id": "8bHZMhL3TRs2"
      },
      "source": [
        "# Final"
      ]
    },
    {
      "cell_type": "code",
      "execution_count": null,
      "metadata": {
        "id": "NRvfP9xN-VZl"
      },
      "outputs": [],
      "source": [
        "#Restricting the test set to the most relevant features\n",
        "x_t = df_test[top_feature]"
      ]
    },
    {
      "cell_type": "code",
      "source": [
        "x_t.isna().sum()"
      ],
      "metadata": {
        "colab": {
          "base_uri": "https://localhost:8080/"
        },
        "id": "fiAx1hHnJDx_",
        "outputId": "776ca3a6-4283-4141-bc6c-5351af462805"
      },
      "execution_count": null,
      "outputs": [
        {
          "output_type": "execute_result",
          "data": {
            "text/plain": [
              "label_1                   0\n",
              "Forums_org                0\n",
              "Updates_org               0\n",
              "Social_org                0\n",
              "Promotions_org            0\n",
              "label_7                   0\n",
              "label_2                   0\n",
              "label_0                   0\n",
              "label_3                   0\n",
              "Personal_org              0\n",
              "alternative               0\n",
              "year                      0\n",
              "ccs                       0\n",
              "quantile_chars_subject    0\n",
              "Updates_tld               0\n",
              "Promotions_tld            0\n",
              "label_4                   0\n",
              "Social_tld                0\n",
              "Purchases_org             0\n",
              "government                0\n",
              "no_url                    0\n",
              "log_image_char            0\n",
              "idm                       0\n",
              "weekday                   0\n",
              "Spam_tld                  0\n",
              "Spam_org                  0\n",
              "salutations               0\n",
              "Travel_org                0\n",
              "multipart                 0\n",
              "month                     0\n",
              "quantile_urls             0\n",
              "designation               0\n",
              "quantile_images           0\n",
              "hour                      0\n",
              "label_5                   0\n",
              "Purchases_tld             0\n",
              "Personal_tld              0\n",
              "quantile_chars_body       0\n",
              "label_6                   0\n",
              "image_heavy               0\n",
              "Forums_tld                0\n",
              "dtype: int64"
            ]
          },
          "metadata": {},
          "execution_count": 259
        }
      ]
    },
    {
      "cell_type": "code",
      "execution_count": null,
      "metadata": {
        "id": "3WF3z-9QTRs3"
      },
      "outputs": [],
      "source": [
        "#Use the model to predict the label values of the test set\n",
        "pred = xg_cv.predict(x_t)"
      ]
    },
    {
      "cell_type": "code",
      "execution_count": null,
      "metadata": {
        "id": "ehegmxxTB4kB"
      },
      "outputs": [],
      "source": [
        "#adding the predictions to the test dataframe\n",
        "df_test['label'] = pred\n"
      ]
    },
    {
      "cell_type": "code",
      "execution_count": null,
      "metadata": {
        "id": "1rvFkIKWCNVg"
      },
      "outputs": [],
      "source": [
        "#final dataframe with only the prediction \n",
        "final = df_test[['label']]"
      ]
    },
    {
      "cell_type": "code",
      "execution_count": null,
      "metadata": {
        "id": "GusYP3tsKIcp"
      },
      "outputs": [],
      "source": [
        "#creating the csv file to export the predictions\n",
        "final.to_csv(\"final_sub_duplicates.csv\", index=True, index_label='Id')"
      ]
    },
    {
      "cell_type": "code",
      "execution_count": null,
      "metadata": {
        "id": "VVof46ReKdve",
        "colab": {
          "base_uri": "https://localhost:8080/",
          "height": 424
        },
        "outputId": "72329ad3-2d24-4e81-eb7b-f76b9a7fda3a"
      },
      "outputs": [
        {
          "output_type": "execute_result",
          "data": {
            "text/plain": [
              "       label\n",
              "0          1\n",
              "1          1\n",
              "2          1\n",
              "3          1\n",
              "4          0\n",
              "...      ...\n",
              "34360      7\n",
              "34361      2\n",
              "34362      1\n",
              "34363      0\n",
              "34364      1\n",
              "\n",
              "[34365 rows x 1 columns]"
            ],
            "text/html": [
              "\n",
              "  <div id=\"df-dca1b455-d3b9-4306-8235-aa282f38f5bb\">\n",
              "    <div class=\"colab-df-container\">\n",
              "      <div>\n",
              "<style scoped>\n",
              "    .dataframe tbody tr th:only-of-type {\n",
              "        vertical-align: middle;\n",
              "    }\n",
              "\n",
              "    .dataframe tbody tr th {\n",
              "        vertical-align: top;\n",
              "    }\n",
              "\n",
              "    .dataframe thead th {\n",
              "        text-align: right;\n",
              "    }\n",
              "</style>\n",
              "<table border=\"1\" class=\"dataframe\">\n",
              "  <thead>\n",
              "    <tr style=\"text-align: right;\">\n",
              "      <th></th>\n",
              "      <th>label</th>\n",
              "    </tr>\n",
              "  </thead>\n",
              "  <tbody>\n",
              "    <tr>\n",
              "      <th>0</th>\n",
              "      <td>1</td>\n",
              "    </tr>\n",
              "    <tr>\n",
              "      <th>1</th>\n",
              "      <td>1</td>\n",
              "    </tr>\n",
              "    <tr>\n",
              "      <th>2</th>\n",
              "      <td>1</td>\n",
              "    </tr>\n",
              "    <tr>\n",
              "      <th>3</th>\n",
              "      <td>1</td>\n",
              "    </tr>\n",
              "    <tr>\n",
              "      <th>4</th>\n",
              "      <td>0</td>\n",
              "    </tr>\n",
              "    <tr>\n",
              "      <th>...</th>\n",
              "      <td>...</td>\n",
              "    </tr>\n",
              "    <tr>\n",
              "      <th>34360</th>\n",
              "      <td>7</td>\n",
              "    </tr>\n",
              "    <tr>\n",
              "      <th>34361</th>\n",
              "      <td>2</td>\n",
              "    </tr>\n",
              "    <tr>\n",
              "      <th>34362</th>\n",
              "      <td>1</td>\n",
              "    </tr>\n",
              "    <tr>\n",
              "      <th>34363</th>\n",
              "      <td>0</td>\n",
              "    </tr>\n",
              "    <tr>\n",
              "      <th>34364</th>\n",
              "      <td>1</td>\n",
              "    </tr>\n",
              "  </tbody>\n",
              "</table>\n",
              "<p>34365 rows × 1 columns</p>\n",
              "</div>\n",
              "      <button class=\"colab-df-convert\" onclick=\"convertToInteractive('df-dca1b455-d3b9-4306-8235-aa282f38f5bb')\"\n",
              "              title=\"Convert this dataframe to an interactive table.\"\n",
              "              style=\"display:none;\">\n",
              "        \n",
              "  <svg xmlns=\"http://www.w3.org/2000/svg\" height=\"24px\"viewBox=\"0 0 24 24\"\n",
              "       width=\"24px\">\n",
              "    <path d=\"M0 0h24v24H0V0z\" fill=\"none\"/>\n",
              "    <path d=\"M18.56 5.44l.94 2.06.94-2.06 2.06-.94-2.06-.94-.94-2.06-.94 2.06-2.06.94zm-11 1L8.5 8.5l.94-2.06 2.06-.94-2.06-.94L8.5 2.5l-.94 2.06-2.06.94zm10 10l.94 2.06.94-2.06 2.06-.94-2.06-.94-.94-2.06-.94 2.06-2.06.94z\"/><path d=\"M17.41 7.96l-1.37-1.37c-.4-.4-.92-.59-1.43-.59-.52 0-1.04.2-1.43.59L10.3 9.45l-7.72 7.72c-.78.78-.78 2.05 0 2.83L4 21.41c.39.39.9.59 1.41.59.51 0 1.02-.2 1.41-.59l7.78-7.78 2.81-2.81c.8-.78.8-2.07 0-2.86zM5.41 20L4 18.59l7.72-7.72 1.47 1.35L5.41 20z\"/>\n",
              "  </svg>\n",
              "      </button>\n",
              "      \n",
              "  <style>\n",
              "    .colab-df-container {\n",
              "      display:flex;\n",
              "      flex-wrap:wrap;\n",
              "      gap: 12px;\n",
              "    }\n",
              "\n",
              "    .colab-df-convert {\n",
              "      background-color: #E8F0FE;\n",
              "      border: none;\n",
              "      border-radius: 50%;\n",
              "      cursor: pointer;\n",
              "      display: none;\n",
              "      fill: #1967D2;\n",
              "      height: 32px;\n",
              "      padding: 0 0 0 0;\n",
              "      width: 32px;\n",
              "    }\n",
              "\n",
              "    .colab-df-convert:hover {\n",
              "      background-color: #E2EBFA;\n",
              "      box-shadow: 0px 1px 2px rgba(60, 64, 67, 0.3), 0px 1px 3px 1px rgba(60, 64, 67, 0.15);\n",
              "      fill: #174EA6;\n",
              "    }\n",
              "\n",
              "    [theme=dark] .colab-df-convert {\n",
              "      background-color: #3B4455;\n",
              "      fill: #D2E3FC;\n",
              "    }\n",
              "\n",
              "    [theme=dark] .colab-df-convert:hover {\n",
              "      background-color: #434B5C;\n",
              "      box-shadow: 0px 1px 3px 1px rgba(0, 0, 0, 0.15);\n",
              "      filter: drop-shadow(0px 1px 2px rgba(0, 0, 0, 0.3));\n",
              "      fill: #FFFFFF;\n",
              "    }\n",
              "  </style>\n",
              "\n",
              "      <script>\n",
              "        const buttonEl =\n",
              "          document.querySelector('#df-dca1b455-d3b9-4306-8235-aa282f38f5bb button.colab-df-convert');\n",
              "        buttonEl.style.display =\n",
              "          google.colab.kernel.accessAllowed ? 'block' : 'none';\n",
              "\n",
              "        async function convertToInteractive(key) {\n",
              "          const element = document.querySelector('#df-dca1b455-d3b9-4306-8235-aa282f38f5bb');\n",
              "          const dataTable =\n",
              "            await google.colab.kernel.invokeFunction('convertToInteractive',\n",
              "                                                     [key], {});\n",
              "          if (!dataTable) return;\n",
              "\n",
              "          const docLinkHtml = 'Like what you see? Visit the ' +\n",
              "            '<a target=\"_blank\" href=https://colab.research.google.com/notebooks/data_table.ipynb>data table notebook</a>'\n",
              "            + ' to learn more about interactive tables.';\n",
              "          element.innerHTML = '';\n",
              "          dataTable['output_type'] = 'display_data';\n",
              "          await google.colab.output.renderOutput(dataTable, element);\n",
              "          const docLink = document.createElement('div');\n",
              "          docLink.innerHTML = docLinkHtml;\n",
              "          element.appendChild(docLink);\n",
              "        }\n",
              "      </script>\n",
              "    </div>\n",
              "  </div>\n",
              "  "
            ]
          },
          "metadata": {},
          "execution_count": 140
        }
      ],
      "source": [
        "final"
      ]
    },
    {
      "cell_type": "markdown",
      "metadata": {
        "id": "X98ChUkhLiHC"
      },
      "source": [
        "#**END OF CODE**"
      ]
    }
  ],
  "metadata": {
    "colab": {
      "provenance": [],
      "collapsed_sections": [
        "X98ChUkhLiHC"
      ]
    },
    "gpuClass": "standard",
    "kernelspec": {
      "display_name": "Python 3",
      "language": "python",
      "name": "python3"
    },
    "language_info": {
      "codemirror_mode": {
        "name": "ipython",
        "version": 3
      },
      "file_extension": ".py",
      "mimetype": "text/x-python",
      "name": "python",
      "nbconvert_exporter": "python",
      "pygments_lexer": "ipython3",
      "version": "3.8.8"
    }
  },
  "nbformat": 4,
  "nbformat_minor": 0
}